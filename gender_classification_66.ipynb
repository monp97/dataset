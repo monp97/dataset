{
  "nbformat": 4,
  "nbformat_minor": 0,
  "metadata": {
    "colab": {
      "name": "gender_classification_66.ipynb",
      "provenance": [],
      "authorship_tag": "ABX9TyO+/mJzdgtviJVM/fKZUr1u",
      "include_colab_link": true
    },
    "kernelspec": {
      "name": "python3",
      "display_name": "Python 3"
    },
    "accelerator": "GPU"
  },
  "cells": [
    {
      "cell_type": "markdown",
      "metadata": {
        "id": "view-in-github",
        "colab_type": "text"
      },
      "source": [
        "<a href=\"https://colab.research.google.com/github/monp97/dataset/blob/master/gender_classification_66.ipynb\" target=\"_parent\"><img src=\"https://colab.research.google.com/assets/colab-badge.svg\" alt=\"Open In Colab\"/></a>"
      ]
    },
    {
      "cell_type": "code",
      "metadata": {
        "id": "IcXXwUknvg1W",
        "colab_type": "code",
        "colab": {
          "base_uri": "https://localhost:8080/",
          "height": 153
        },
        "outputId": "5513cecb-73d4-43b9-a8d8-97e234b4e75a"
      },
      "source": [
        "! git clone https://github.com/monp97/dataset.git"
      ],
      "execution_count": 1,
      "outputs": [
        {
          "output_type": "stream",
          "text": [
            "Cloning into 'dataset'...\n",
            "remote: Enumerating objects: 7691, done.\u001b[K\n",
            "remote: Counting objects: 100% (7691/7691), done.\u001b[K\n",
            "remote: Compressing objects: 100% (7431/7431), done.\u001b[K\n",
            "remote: Total 70630 (delta 267), reused 7677 (delta 260), pack-reused 62939\n",
            "Receiving objects: 100% (70630/70630), 454.06 MiB | 31.09 MiB/s, done.\n",
            "Resolving deltas: 100% (3255/3255), done.\n",
            "Checking out files: 100% (128230/128230), done.\n"
          ],
          "name": "stdout"
        }
      ]
    },
    {
      "cell_type": "code",
      "metadata": {
        "id": "cZRQrgdbxbTN",
        "colab_type": "code",
        "colab": {}
      },
      "source": [
        "import shutil\n",
        "shutil.rmtree('/content/final_gender_dataset')"
      ],
      "execution_count": 0,
      "outputs": []
    },
    {
      "cell_type": "code",
      "metadata": {
        "id": "0OzwDYs-wryo",
        "colab_type": "code",
        "colab": {
          "base_uri": "https://localhost:8080/",
          "height": 105
        },
        "outputId": "7016e1eb-f5d2-4c84-aaed-aa57d8754ffc"
      },
      "source": [
        "! pip install split-folders"
      ],
      "execution_count": 2,
      "outputs": [
        {
          "output_type": "stream",
          "text": [
            "Collecting split-folders\n",
            "  Downloading https://files.pythonhosted.org/packages/20/67/29dda743e6d23ac1ea3d16704d8bbb48d65faf3f1b1eaf53153b3da56c56/split_folders-0.3.1-py3-none-any.whl\n",
            "Installing collected packages: split-folders\n",
            "Successfully installed split-folders-0.3.1\n"
          ],
          "name": "stdout"
        }
      ]
    },
    {
      "cell_type": "code",
      "metadata": {
        "id": "0scRtuBqwwu8",
        "colab_type": "code",
        "colab": {
          "base_uri": "https://localhost:8080/",
          "height": 34
        },
        "outputId": "da23b915-e47a-412c-bd61-e3d527d01ccd"
      },
      "source": [
        "import os\n",
        "\n",
        "directory = \"final_gender_dataset\"\n",
        "  \n",
        "# Parent Directory path \n",
        "parent_dir = \"/content/\"\n",
        "  \n",
        "# Path \n",
        "path = os.path.join(parent_dir, directory) \n",
        "  \n",
        "# Create the directory \n",
        "# 'GeeksForGeeks' in \n",
        "# '/home / User / Documents' \n",
        "os.mkdir(path) \n",
        "print(\"Directory '% s' created\" % directory) "
      ],
      "execution_count": 11,
      "outputs": [
        {
          "output_type": "stream",
          "text": [
            "Directory 'final_gender_dataset' created\n"
          ],
          "name": "stdout"
        }
      ]
    },
    {
      "cell_type": "code",
      "metadata": {
        "id": "TVpaXsd6w314",
        "colab_type": "code",
        "colab": {}
      },
      "source": [
        "directory1 = \"training\"\n",
        "directory2 = \"test\"\n",
        "\n",
        "# Parent Directory path \n",
        "parent_dir = \"/content/final_gender_dataset\"\n",
        "  \n",
        "# Path \n",
        "path1 = os.path.join(parent_dir, directory1) \n",
        "path2 = os.path.join(parent_dir, directory2) \n",
        "  \n",
        "# Create the directory \n",
        "# 'GeeksForGeeks' in \n",
        "# '/home / User / Documents' \n",
        "os.mkdir(path1) \n",
        "os.mkdir(path2) "
      ],
      "execution_count": 0,
      "outputs": []
    },
    {
      "cell_type": "code",
      "metadata": {
        "id": "4NxuAJh0w6rx",
        "colab_type": "code",
        "colab": {}
      },
      "source": [
        "directory1 = \"female\"\n",
        "directory2 = \"male\"\n",
        "\n",
        "# Parent Directory path \n",
        "parent_dir = \"/content/final_gender_dataset/training\"\n",
        "  \n",
        "# Path \n",
        "path1 = os.path.join(parent_dir,directory1) \n",
        "path2 = os.path.join(parent_dir, directory2) \n",
        "  \n",
        "# Create the directory \n",
        "# 'GeeksForGeeks' in \n",
        "# '/home / User / Documents' \n",
        "os.mkdir(path1) \n",
        "os.mkdir(path2) \n",
        "\n",
        "directory1 = \"female\"\n",
        "directory2 = \"male\"\n",
        "\n",
        "# Parent Directory path \n",
        "parent_dir = \"/content/final_gender_dataset/test\"\n",
        "  \n",
        "# Path \n",
        "path1 = os.path.join(parent_dir, directory1) \n",
        "path2 = os.path.join(parent_dir, directory2) \n",
        "  \n",
        "# Create the directory \n",
        "# 'GeeksForGeeks' in \n",
        "# '/home / User / Documents' \n",
        "os.mkdir(path1) \n",
        "os.mkdir(path2) "
      ],
      "execution_count": 0,
      "outputs": []
    },
    {
      "cell_type": "code",
      "metadata": {
        "id": "fwcQdt4Ww_yZ",
        "colab_type": "code",
        "colab": {}
      },
      "source": [
        "import numpy as np\n",
        "import cv2\n",
        "for filename in os.listdir('/content/dataset/Real'):\n",
        "        subject_id, etc = filename.split('__')\n",
        "        gender, lr, finger, _ = etc.split('_')\n",
        "        src='/content/dataset/Real/'+filename\n",
        "        image = cv2.imread(src)\n",
        "\n",
        "        proc_img=(image)\n",
        "\n",
        "        # refer = {\n",
        "        #   \"index\": \"1\",\n",
        "        #   \"middle\": \"2\",\n",
        "        #   \"ring\":\"3\",\n",
        "        #   \"little\":\"4\",\n",
        "        #   \"thumb\":\"5\"\n",
        "        # }\n",
        "\n",
        "        dir_name=''\n",
        "\n",
        "        if gender=='M':\n",
        "          dir_name=dir_name+'male'\n",
        "        else:\n",
        "          dir_name=dir_name+'female'\n",
        "          \n",
        "\n",
        "        # if lr=='Left':\n",
        "        #   dir_name=dir_name+'left'\n",
        "        # else:\n",
        "        #   dir_name=dir_name+'right'\n",
        "\n",
        "        # dir_name=dir_name+refer[finger]\n",
        "\n",
        "        # name=dir_name\n",
        "\n",
        "        # dir_name=name+'_'+str(dic[name])\n",
        "        # final_filename=filename[:-4]+'.png'\n",
        "        cv2.imwrite(os.path.join('/content/final_gender_dataset/training/'+dir_name+'/'+filename),proc_img)"
      ],
      "execution_count": 0,
      "outputs": []
    },
    {
      "cell_type": "code",
      "metadata": {
        "id": "CBeSi1PIxFDc",
        "colab_type": "code",
        "colab": {
          "base_uri": "https://localhost:8080/",
          "height": 34
        },
        "outputId": "e86e87f0-3e3d-4bd2-f07f-8de421e05165"
      },
      "source": [
        "import split_folders\n",
        "\n",
        "# Split with a ratio.\n",
        "# To only split into training and validation set, set a tuple to `ratio`, i.e, `(.8, .2)`.\n",
        "split_folders.ratio('/content/final_gender_dataset/training', output=\"output\", seed=1337, ratio=(.8, .1, .1)) # default values"
      ],
      "execution_count": 17,
      "outputs": [
        {
          "output_type": "stream",
          "text": [
            "Copying files: 2460 files [00:00, 5986.04 files/s]\n"
          ],
          "name": "stderr"
        }
      ]
    },
    {
      "cell_type": "code",
      "metadata": {
        "id": "LgMjRe5Exwog",
        "colab_type": "code",
        "colab": {}
      },
      "source": [
        "import os\n",
        "import random\n",
        "# Go over each folder path\n",
        "files = os.listdir('/content/final_gender_dataset/training/male')  # Get filenames in current folder\n",
        "\n",
        "files = random.sample(files,3540)  # Pick 900 random files\n",
        "for file in files:\n",
        "  f = os.path.join('/content/final_gender_dataset/training/male', file)  # Create valid path to file\n",
        "  os.remove(f)  "
      ],
      "execution_count": 0,
      "outputs": []
    },
    {
      "cell_type": "code",
      "metadata": {
        "id": "xOvovV_yx4O3",
        "colab_type": "code",
        "colab": {
          "base_uri": "https://localhost:8080/",
          "height": 85
        },
        "outputId": "71707dba-660f-4eae-cba3-7bde3b8cc88d"
      },
      "source": [
        "dir_female_1=os.listdir('/content/final_gender_dataset/training/female')\n",
        "dir_male_1=os.listdir('/content/final_gender_dataset/training/male')\n",
        "dir_female_2=os.listdir('/content/final_gender_dataset/test/female')\n",
        "dir_male_2=os.listdir('/content/final_gender_dataset/test/male')\n",
        "\n",
        "print(len(dir_female_1))\n",
        "print(len(dir_male_1))\n",
        "print(len(dir_female_2))\n",
        "print(len(dir_male_2))\n"
      ],
      "execution_count": 18,
      "outputs": [
        {
          "output_type": "stream",
          "text": [
            "1230\n",
            "1230\n",
            "0\n",
            "0\n"
          ],
          "name": "stdout"
        }
      ]
    },
    {
      "cell_type": "code",
      "metadata": {
        "id": "QqrG-4NTyHtD",
        "colab_type": "code",
        "colab": {
          "base_uri": "https://localhost:8080/",
          "height": 114
        },
        "outputId": "bbb2a898-98c4-42a0-8984-7c6f80046584"
      },
      "source": [
        "from keras.preprocessing.image import ImageDataGenerator\n",
        "import numpy as np\n",
        "\n",
        "train_datagen=ImageDataGenerator(\n",
        "    rescale=1./255,\n",
        "    shear_range=0.2,\n",
        "    zoom_range=0.2,\n",
        "    horizontal_flip=True, \n",
        "    fill_mode='nearest'\n",
        ")\n",
        "\n",
        "test_datagen=ImageDataGenerator(rescale=1./255)\n",
        "\n",
        "\n",
        "training_set=train_datagen.flow_from_directory(\n",
        "    '/content/output/train',\n",
        "    target_size=(96,96),\n",
        "    batch_size=8,\n",
        "    class_mode='binary',\n",
        "    shuffle=True,\n",
        ")\n",
        "\n",
        "\n",
        "val_set=test_datagen.flow_from_directory(\n",
        "    '/content/output/val',\n",
        "    target_size=(96,96),\n",
        "    batch_size=8,\n",
        "    class_mode='binary',\n",
        "    shuffle=False\n",
        ")\n"
      ],
      "execution_count": 19,
      "outputs": [
        {
          "output_type": "stream",
          "text": [
            "Using TensorFlow backend.\n"
          ],
          "name": "stderr"
        },
        {
          "output_type": "display_data",
          "data": {
            "text/html": [
              "<p style=\"color: red;\">\n",
              "The default version of TensorFlow in Colab will soon switch to TensorFlow 2.x.<br>\n",
              "We recommend you <a href=\"https://www.tensorflow.org/guide/migrate\" target=\"_blank\">upgrade</a> now \n",
              "or ensure your notebook will continue to use TensorFlow 1.x via the <code>%tensorflow_version 1.x</code> magic:\n",
              "<a href=\"https://colab.research.google.com/notebooks/tensorflow_version.ipynb\" target=\"_blank\">more info</a>.</p>\n"
            ],
            "text/plain": [
              "<IPython.core.display.HTML object>"
            ]
          },
          "metadata": {
            "tags": []
          }
        },
        {
          "output_type": "stream",
          "text": [
            "Found 1968 images belonging to 2 classes.\n",
            "Found 246 images belonging to 2 classes.\n"
          ],
          "name": "stdout"
        }
      ]
    },
    {
      "cell_type": "code",
      "metadata": {
        "id": "EeTs7hOfyLE8",
        "colab_type": "code",
        "colab": {}
      },
      "source": [
        "from keras import optimizers\n",
        "from keras.models import Sequential\n",
        "from keras.layers import Conv2D\n",
        "from keras.layers import MaxPooling2D\n",
        "from keras.layers import Dense\n",
        "from keras.layers import Flatten\n",
        "from keras.optimizers import SGD\n",
        "from keras.preprocessing.image import ImageDataGenerator\n",
        " \n",
        "def define_model():\n",
        "  model = Sequential()\n",
        "  model.add(Conv2D(32,(3, 3), activation='relu', kernel_initializer='he_uniform', padding='same', input_shape=(96, 96, 3)))\n",
        "  model.add(MaxPooling2D((2, 2)))\n",
        "  model.add(Flatten())\n",
        "  model.add(Dense(128, activation='relu', kernel_initializer='he_uniform'))\n",
        "  model.add(Dense(1, activation='sigmoid'))\n",
        "  opt = optimizers.adam(lr=0.0001)\n",
        "  model.compile(optimizer=opt,loss='binary_crossentropy',metrics=['accuracy'])\n",
        "  return model"
      ],
      "execution_count": 0,
      "outputs": []
    },
    {
      "cell_type": "code",
      "metadata": {
        "id": "iL64PdUPIVcf",
        "colab_type": "code",
        "colab": {}
      },
      "source": [
        ""
      ],
      "execution_count": 0,
      "outputs": []
    },
    {
      "cell_type": "code",
      "metadata": {
        "id": "kb3jzDNFYJA8",
        "colab_type": "code",
        "outputId": "b198ed1d-5403-4db0-dad0-dfcf3c7d1aee",
        "colab": {
          "base_uri": "https://localhost:8080/",
          "height": 207
        }
      },
      "source": [
        "from keras.applications.resnet50 import ResNet50, preprocess_input\n",
        "\n",
        "base_model = ResNet50(weights='imagenet', \n",
        "                      include_top=False, \n",
        "                      input_shape=(96, 96, 3))"
      ],
      "execution_count": 27,
      "outputs": [
        {
          "output_type": "stream",
          "text": [
            "WARNING:tensorflow:From /usr/local/lib/python3.6/dist-packages/keras/backend/tensorflow_backend.py:4479: The name tf.truncated_normal is deprecated. Please use tf.random.truncated_normal instead.\n",
            "\n",
            "WARNING:tensorflow:From /usr/local/lib/python3.6/dist-packages/keras/backend/tensorflow_backend.py:2041: The name tf.nn.fused_batch_norm is deprecated. Please use tf.compat.v1.nn.fused_batch_norm instead.\n",
            "\n",
            "WARNING:tensorflow:From /usr/local/lib/python3.6/dist-packages/keras/backend/tensorflow_backend.py:148: The name tf.placeholder_with_default is deprecated. Please use tf.compat.v1.placeholder_with_default instead.\n",
            "\n"
          ],
          "name": "stdout"
        },
        {
          "output_type": "stream",
          "text": [
            "/usr/local/lib/python3.6/dist-packages/keras_applications/resnet50.py:265: UserWarning: The output shape of `ResNet50(include_top=False)` has been changed since Keras 2.2.0.\n",
            "  warnings.warn('The output shape of `ResNet50(include_top=False)` '\n"
          ],
          "name": "stderr"
        },
        {
          "output_type": "stream",
          "text": [
            "Downloading data from https://github.com/fchollet/deep-learning-models/releases/download/v0.2/resnet50_weights_tf_dim_ordering_tf_kernels_notop.h5\n",
            "94658560/94653016 [==============================] - 3s 0us/step\n"
          ],
          "name": "stdout"
        }
      ]
    },
    {
      "cell_type": "code",
      "metadata": {
        "id": "X1pYW6fk_EZs",
        "colab_type": "code",
        "colab": {}
      },
      "source": [
        "from keras.layers import Dense, Activation, Flatten, Dropout\n",
        "from keras.models import Sequential, Model\n",
        "\n",
        "def build_finetune_model(base_model, dropout, fc_layers, num_classes):\n",
        "    for layer in base_model.layers:\n",
        "        layer.trainable = False\n",
        "\n",
        "    x = base_model.output\n",
        "    x = Flatten()(x)\n",
        "    for fc in fc_layers:\n",
        "        # New FC layer, random init\n",
        "        x = Dense(fc, activation='relu')(x) \n",
        "        x = Dropout(dropout)(x)\n",
        "\n",
        "    # New softmax layer\n",
        "    predictions = Dense(num_classes, activation='sigmoid')(x) \n",
        "    \n",
        "    finetune_model = Model(inputs=base_model.input, outputs=predictions)\n",
        "\n",
        "    return finetune_model\n",
        "\n",
        "class_list = [\"left\", \"right\"]\n",
        "FC_LAYERS = [1024, 1024]\n",
        "dropout = 0.5\n",
        "\n",
        "finetune_model = build_finetune_model(base_model, \n",
        "                                      dropout=dropout, \n",
        "                                      fc_layers=FC_LAYERS, \n",
        "                                      num_classes=1)"
      ],
      "execution_count": 0,
      "outputs": []
    },
    {
      "cell_type": "code",
      "metadata": {
        "id": "XEgeiUXiyWQI",
        "colab_type": "code",
        "colab": {
          "base_uri": "https://localhost:8080/",
          "height": 1000
        },
        "outputId": "735b1303-9cc5-4c5b-fcde-327624a35b0d"
      },
      "source": [
        "from IPython.display import display\n",
        "from PIL import Image\n",
        "\n",
        "# mod=define_model()\n",
        "from keras import optimizers\n",
        "opt = optimizers.adam(lr=0.0001)\n",
        "finetune_model.compile(optimizer=opt,loss='binary_crossentropy',metrics=['accuracy'])\n",
        "finetune_model.fit_generator(training_set,\n",
        "                    steps_per_epoch=training_set.samples // 8,\n",
        "                    epochs=100,\n",
        "                    validation_data=val_set,\n",
        "                    nb_val_samples= val_set.samples //8)"
      ],
      "execution_count": 38,
      "outputs": [
        {
          "output_type": "stream",
          "text": [
            "/usr/local/lib/python3.6/dist-packages/ipykernel_launcher.py:12: UserWarning: The semantics of the Keras 2 argument `steps_per_epoch` is not the same as the Keras 1 argument `samples_per_epoch`. `steps_per_epoch` is the number of batches to draw from the generator at each epoch. Basically steps_per_epoch = samples_per_epoch/batch_size. Similarly `nb_val_samples`->`validation_steps` and `val_samples`->`steps` arguments have changed. Update your method calls accordingly.\n",
            "  if sys.path[0] == '':\n",
            "/usr/local/lib/python3.6/dist-packages/ipykernel_launcher.py:12: UserWarning: Update your `fit_generator` call to the Keras 2 API: `fit_generator(<keras_pre..., steps_per_epoch=246, epochs=100, validation_data=<keras_pre..., validation_steps=30)`\n",
            "  if sys.path[0] == '':\n"
          ],
          "name": "stderr"
        },
        {
          "output_type": "stream",
          "text": [
            "Epoch 1/100\n",
            "246/246 [==============================] - 11s 44ms/step - loss: 0.5899 - acc: 0.6880 - val_loss: 0.7047 - val_acc: 0.4875\n",
            "Epoch 2/100\n",
            "246/246 [==============================] - 7s 30ms/step - loss: 0.5842 - acc: 0.7058 - val_loss: 0.7067 - val_acc: 0.4832\n",
            "Epoch 3/100\n",
            "246/246 [==============================] - 7s 29ms/step - loss: 0.5699 - acc: 0.7160 - val_loss: 0.7025 - val_acc: 0.4832\n",
            "Epoch 4/100\n",
            "246/246 [==============================] - 7s 30ms/step - loss: 0.5727 - acc: 0.7022 - val_loss: 0.7025 - val_acc: 0.4832\n",
            "Epoch 5/100\n",
            "246/246 [==============================] - 7s 29ms/step - loss: 0.5687 - acc: 0.7053 - val_loss: 0.7063 - val_acc: 0.4832\n",
            "Epoch 6/100\n",
            "246/246 [==============================] - 7s 29ms/step - loss: 0.5756 - acc: 0.7241 - val_loss: 0.7086 - val_acc: 0.4832\n",
            "Epoch 7/100\n",
            "246/246 [==============================] - 7s 30ms/step - loss: 0.5565 - acc: 0.7144 - val_loss: 0.7070 - val_acc: 0.4832\n",
            "Epoch 8/100\n",
            "246/246 [==============================] - 7s 29ms/step - loss: 0.5594 - acc: 0.7165 - val_loss: 0.7102 - val_acc: 0.4832\n",
            "Epoch 9/100\n",
            "246/246 [==============================] - 7s 29ms/step - loss: 0.5679 - acc: 0.7002 - val_loss: 0.7068 - val_acc: 0.4832\n",
            "Epoch 10/100\n",
            "246/246 [==============================] - 7s 30ms/step - loss: 0.5517 - acc: 0.7312 - val_loss: 0.7069 - val_acc: 0.4832\n",
            "Epoch 11/100\n",
            "246/246 [==============================] - 7s 29ms/step - loss: 0.5621 - acc: 0.7195 - val_loss: 0.7087 - val_acc: 0.4832\n",
            "Epoch 12/100\n",
            "246/246 [==============================] - 7s 29ms/step - loss: 0.5578 - acc: 0.7160 - val_loss: 0.7105 - val_acc: 0.4832\n",
            "Epoch 13/100\n",
            "246/246 [==============================] - 7s 29ms/step - loss: 0.5622 - acc: 0.7058 - val_loss: 0.7138 - val_acc: 0.4832\n",
            "Epoch 14/100\n",
            "246/246 [==============================] - 7s 29ms/step - loss: 0.5646 - acc: 0.6977 - val_loss: 0.7104 - val_acc: 0.4832\n",
            "Epoch 15/100\n",
            "246/246 [==============================] - 7s 30ms/step - loss: 0.5478 - acc: 0.7261 - val_loss: 0.7127 - val_acc: 0.4832\n",
            "Epoch 16/100\n",
            "246/246 [==============================] - 7s 29ms/step - loss: 0.5415 - acc: 0.7342 - val_loss: 0.7149 - val_acc: 0.4958\n",
            "Epoch 17/100\n",
            "246/246 [==============================] - 7s 29ms/step - loss: 0.5552 - acc: 0.7165 - val_loss: 0.7009 - val_acc: 0.5168\n",
            "Epoch 18/100\n",
            "246/246 [==============================] - 7s 30ms/step - loss: 0.5555 - acc: 0.7160 - val_loss: 0.6990 - val_acc: 0.5168\n",
            "Epoch 19/100\n",
            "246/246 [==============================] - 7s 29ms/step - loss: 0.5291 - acc: 0.7424 - val_loss: 0.7008 - val_acc: 0.5168\n",
            "Epoch 20/100\n",
            "246/246 [==============================] - 7s 30ms/step - loss: 0.5609 - acc: 0.7241 - val_loss: 0.6972 - val_acc: 0.5168\n",
            "Epoch 21/100\n",
            "246/246 [==============================] - 7s 29ms/step - loss: 0.5461 - acc: 0.7276 - val_loss: 0.6947 - val_acc: 0.5168\n",
            "Epoch 22/100\n",
            "246/246 [==============================] - 7s 29ms/step - loss: 0.5484 - acc: 0.7175 - val_loss: 0.7019 - val_acc: 0.5168\n",
            "Epoch 23/100\n",
            "246/246 [==============================] - 7s 29ms/step - loss: 0.5514 - acc: 0.7215 - val_loss: 0.7048 - val_acc: 0.5168\n",
            "Epoch 24/100\n",
            "246/246 [==============================] - 7s 30ms/step - loss: 0.5375 - acc: 0.7200 - val_loss: 0.7052 - val_acc: 0.5168\n",
            "Epoch 25/100\n",
            "246/246 [==============================] - 7s 29ms/step - loss: 0.5413 - acc: 0.7307 - val_loss: 0.7019 - val_acc: 0.5168\n",
            "Epoch 26/100\n",
            "246/246 [==============================] - 7s 30ms/step - loss: 0.5326 - acc: 0.7256 - val_loss: 0.6969 - val_acc: 0.5168\n",
            "Epoch 27/100\n",
            "246/246 [==============================] - 7s 30ms/step - loss: 0.5406 - acc: 0.7348 - val_loss: 0.6986 - val_acc: 0.5168\n",
            "Epoch 28/100\n",
            "246/246 [==============================] - 7s 29ms/step - loss: 0.5392 - acc: 0.7221 - val_loss: 0.7013 - val_acc: 0.5168\n",
            "Epoch 29/100\n",
            "246/246 [==============================] - 7s 29ms/step - loss: 0.5361 - acc: 0.7470 - val_loss: 0.7008 - val_acc: 0.5168\n",
            "Epoch 30/100\n",
            "246/246 [==============================] - 7s 29ms/step - loss: 0.5375 - acc: 0.7368 - val_loss: 0.7014 - val_acc: 0.5168\n",
            "Epoch 31/100\n",
            "246/246 [==============================] - 7s 29ms/step - loss: 0.5382 - acc: 0.7190 - val_loss: 0.6997 - val_acc: 0.5168\n",
            "Epoch 32/100\n",
            "246/246 [==============================] - 8s 31ms/step - loss: 0.5265 - acc: 0.7358 - val_loss: 0.7156 - val_acc: 0.4875\n",
            "Epoch 33/100\n",
            "246/246 [==============================] - 7s 29ms/step - loss: 0.5300 - acc: 0.7373 - val_loss: 0.7078 - val_acc: 0.4832\n",
            "Epoch 34/100\n",
            "246/246 [==============================] - 7s 29ms/step - loss: 0.5248 - acc: 0.7424 - val_loss: 0.7182 - val_acc: 0.4832\n",
            "Epoch 35/100\n",
            "246/246 [==============================] - 7s 29ms/step - loss: 0.5341 - acc: 0.7429 - val_loss: 0.7224 - val_acc: 0.4832\n",
            "Epoch 36/100\n",
            "246/246 [==============================] - 7s 29ms/step - loss: 0.5338 - acc: 0.7276 - val_loss: 0.7217 - val_acc: 0.4832\n",
            "Epoch 37/100\n",
            "246/246 [==============================] - 7s 29ms/step - loss: 0.5247 - acc: 0.7414 - val_loss: 0.7155 - val_acc: 0.4832\n",
            "Epoch 38/100\n",
            "246/246 [==============================] - 7s 29ms/step - loss: 0.5227 - acc: 0.7342 - val_loss: 0.7116 - val_acc: 0.4832\n",
            "Epoch 39/100\n",
            "246/246 [==============================] - 7s 29ms/step - loss: 0.5200 - acc: 0.7485 - val_loss: 0.7164 - val_acc: 0.4832\n",
            "Epoch 40/100\n",
            "246/246 [==============================] - 7s 30ms/step - loss: 0.5284 - acc: 0.7307 - val_loss: 0.7138 - val_acc: 0.4832\n",
            "Epoch 41/100\n",
            "246/246 [==============================] - 7s 29ms/step - loss: 0.5375 - acc: 0.7383 - val_loss: 0.7093 - val_acc: 0.4832\n",
            "Epoch 42/100\n",
            "246/246 [==============================] - 7s 29ms/step - loss: 0.5259 - acc: 0.7388 - val_loss: 0.7039 - val_acc: 0.4832\n",
            "Epoch 43/100\n",
            "246/246 [==============================] - 7s 30ms/step - loss: 0.5211 - acc: 0.7348 - val_loss: 0.7051 - val_acc: 0.4832\n",
            "Epoch 44/100\n",
            "246/246 [==============================] - 7s 30ms/step - loss: 0.5088 - acc: 0.7429 - val_loss: 0.7086 - val_acc: 0.4832\n",
            "Epoch 45/100\n",
            "246/246 [==============================] - 7s 30ms/step - loss: 0.5109 - acc: 0.7510 - val_loss: 0.7081 - val_acc: 0.4832\n",
            "Epoch 46/100\n",
            "246/246 [==============================] - 7s 28ms/step - loss: 0.5259 - acc: 0.7358 - val_loss: 0.7067 - val_acc: 0.4832\n",
            "Epoch 47/100\n",
            "246/246 [==============================] - 7s 28ms/step - loss: 0.5225 - acc: 0.7414 - val_loss: 0.6971 - val_acc: 0.4958\n",
            "Epoch 48/100\n",
            "246/246 [==============================] - 7s 29ms/step - loss: 0.5182 - acc: 0.7424 - val_loss: 0.6908 - val_acc: 0.5168\n",
            "Epoch 49/100\n",
            "246/246 [==============================] - 7s 29ms/step - loss: 0.5316 - acc: 0.7317 - val_loss: 0.6915 - val_acc: 0.5168\n",
            "Epoch 50/100\n",
            "246/246 [==============================] - 7s 28ms/step - loss: 0.5187 - acc: 0.7470 - val_loss: 0.6912 - val_acc: 0.5168\n",
            "Epoch 51/100\n",
            "246/246 [==============================] - 7s 30ms/step - loss: 0.4927 - acc: 0.7576 - val_loss: 0.6912 - val_acc: 0.5168\n",
            "Epoch 52/100\n",
            "246/246 [==============================] - 7s 29ms/step - loss: 0.5109 - acc: 0.7490 - val_loss: 0.6858 - val_acc: 0.5252\n",
            "Epoch 53/100\n",
            "246/246 [==============================] - 7s 29ms/step - loss: 0.5180 - acc: 0.7251 - val_loss: 0.6869 - val_acc: 0.5252\n",
            "Epoch 54/100\n",
            "246/246 [==============================] - 7s 29ms/step - loss: 0.5105 - acc: 0.7475 - val_loss: 0.6899 - val_acc: 0.5168\n",
            "Epoch 55/100\n",
            "246/246 [==============================] - 7s 29ms/step - loss: 0.5065 - acc: 0.7602 - val_loss: 0.6884 - val_acc: 0.5168\n",
            "Epoch 56/100\n",
            "246/246 [==============================] - 7s 29ms/step - loss: 0.5159 - acc: 0.7536 - val_loss: 0.6887 - val_acc: 0.5168\n",
            "Epoch 57/100\n",
            "246/246 [==============================] - 7s 30ms/step - loss: 0.5041 - acc: 0.7546 - val_loss: 0.6878 - val_acc: 0.5210\n",
            "Epoch 58/100\n",
            "246/246 [==============================] - 7s 29ms/step - loss: 0.4943 - acc: 0.7622 - val_loss: 0.6926 - val_acc: 0.5168\n",
            "Epoch 59/100\n",
            "246/246 [==============================] - 7s 29ms/step - loss: 0.4990 - acc: 0.7597 - val_loss: 0.6944 - val_acc: 0.5168\n",
            "Epoch 60/100\n",
            "246/246 [==============================] - 7s 29ms/step - loss: 0.5009 - acc: 0.7586 - val_loss: 0.6909 - val_acc: 0.5168\n",
            "Epoch 61/100\n",
            "246/246 [==============================] - 7s 29ms/step - loss: 0.5070 - acc: 0.7566 - val_loss: 0.6917 - val_acc: 0.5168\n",
            "Epoch 62/100\n",
            "246/246 [==============================] - 7s 29ms/step - loss: 0.5123 - acc: 0.7434 - val_loss: 0.6910 - val_acc: 0.5168\n",
            "Epoch 63/100\n",
            "246/246 [==============================] - 7s 29ms/step - loss: 0.5074 - acc: 0.7398 - val_loss: 0.7027 - val_acc: 0.4875\n",
            "Epoch 64/100\n",
            "246/246 [==============================] - 7s 29ms/step - loss: 0.5076 - acc: 0.7546 - val_loss: 0.6992 - val_acc: 0.4832\n",
            "Epoch 65/100\n",
            "246/246 [==============================] - 7s 30ms/step - loss: 0.4933 - acc: 0.7658 - val_loss: 0.6972 - val_acc: 0.4874\n",
            "Epoch 66/100\n",
            "246/246 [==============================] - 7s 29ms/step - loss: 0.4985 - acc: 0.7464 - val_loss: 0.7014 - val_acc: 0.4832\n",
            "Epoch 67/100\n",
            "246/246 [==============================] - 7s 29ms/step - loss: 0.5030 - acc: 0.7536 - val_loss: 0.7094 - val_acc: 0.4832\n",
            "Epoch 68/100\n",
            "246/246 [==============================] - 7s 29ms/step - loss: 0.4923 - acc: 0.7490 - val_loss: 0.7126 - val_acc: 0.4832\n",
            "Epoch 69/100\n",
            "246/246 [==============================] - 7s 28ms/step - loss: 0.5195 - acc: 0.7480 - val_loss: 0.7052 - val_acc: 0.4832\n",
            "Epoch 70/100\n",
            "246/246 [==============================] - 7s 29ms/step - loss: 0.4985 - acc: 0.7444 - val_loss: 0.7048 - val_acc: 0.4832\n",
            "Epoch 71/100\n",
            "246/246 [==============================] - 7s 29ms/step - loss: 0.5046 - acc: 0.7536 - val_loss: 0.7020 - val_acc: 0.4832\n",
            "Epoch 72/100\n",
            "246/246 [==============================] - 7s 29ms/step - loss: 0.4979 - acc: 0.7536 - val_loss: 0.7019 - val_acc: 0.4832\n",
            "Epoch 73/100\n",
            "246/246 [==============================] - 7s 29ms/step - loss: 0.5153 - acc: 0.7485 - val_loss: 0.7021 - val_acc: 0.4832\n",
            "Epoch 74/100\n",
            "246/246 [==============================] - 8s 31ms/step - loss: 0.4872 - acc: 0.7561 - val_loss: 0.7012 - val_acc: 0.4832\n",
            "Epoch 75/100\n",
            "246/246 [==============================] - 7s 29ms/step - loss: 0.5089 - acc: 0.7541 - val_loss: 0.6945 - val_acc: 0.4916\n",
            "Epoch 76/100\n",
            "246/246 [==============================] - 7s 30ms/step - loss: 0.5095 - acc: 0.7475 - val_loss: 0.6965 - val_acc: 0.4832\n",
            "Epoch 77/100\n",
            "246/246 [==============================] - 8s 31ms/step - loss: 0.5014 - acc: 0.7597 - val_loss: 0.7029 - val_acc: 0.4832\n",
            "Epoch 78/100\n",
            "246/246 [==============================] - 7s 30ms/step - loss: 0.4840 - acc: 0.7658 - val_loss: 0.6972 - val_acc: 0.4958\n",
            "Epoch 79/100\n",
            "246/246 [==============================] - 7s 30ms/step - loss: 0.4940 - acc: 0.7591 - val_loss: 0.6930 - val_acc: 0.5168\n",
            "Epoch 80/100\n",
            "246/246 [==============================] - 7s 30ms/step - loss: 0.5096 - acc: 0.7546 - val_loss: 0.6952 - val_acc: 0.5168\n",
            "Epoch 81/100\n",
            "246/246 [==============================] - 8s 31ms/step - loss: 0.4885 - acc: 0.7627 - val_loss: 0.6990 - val_acc: 0.5168\n",
            "Epoch 82/100\n",
            "246/246 [==============================] - 8s 32ms/step - loss: 0.4842 - acc: 0.7541 - val_loss: 0.7007 - val_acc: 0.5168\n",
            "Epoch 83/100\n",
            "246/246 [==============================] - 7s 30ms/step - loss: 0.4803 - acc: 0.7658 - val_loss: 0.7033 - val_acc: 0.5168\n",
            "Epoch 84/100\n",
            "246/246 [==============================] - 8s 31ms/step - loss: 0.4761 - acc: 0.7658 - val_loss: 0.7065 - val_acc: 0.5168\n",
            "Epoch 85/100\n",
            "246/246 [==============================] - 7s 30ms/step - loss: 0.4817 - acc: 0.7622 - val_loss: 0.6992 - val_acc: 0.5168\n",
            "Epoch 86/100\n",
            "246/246 [==============================] - 7s 30ms/step - loss: 0.4756 - acc: 0.7698 - val_loss: 0.6953 - val_acc: 0.5168\n",
            "Epoch 87/100\n",
            "246/246 [==============================] - 8s 32ms/step - loss: 0.4841 - acc: 0.7556 - val_loss: 0.6997 - val_acc: 0.5168\n",
            "Epoch 88/100\n",
            "246/246 [==============================] - 7s 30ms/step - loss: 0.4772 - acc: 0.7708 - val_loss: 0.7026 - val_acc: 0.5168\n",
            "Epoch 89/100\n",
            "246/246 [==============================] - 7s 30ms/step - loss: 0.4884 - acc: 0.7754 - val_loss: 0.7046 - val_acc: 0.5168\n",
            "Epoch 90/100\n",
            "246/246 [==============================] - 8s 31ms/step - loss: 0.4732 - acc: 0.7713 - val_loss: 0.7055 - val_acc: 0.5168\n",
            "Epoch 91/100\n",
            "246/246 [==============================] - 7s 29ms/step - loss: 0.4779 - acc: 0.7652 - val_loss: 0.7136 - val_acc: 0.5168\n",
            "Epoch 92/100\n",
            "246/246 [==============================] - 7s 30ms/step - loss: 0.4684 - acc: 0.7815 - val_loss: 0.7048 - val_acc: 0.5168\n",
            "Epoch 93/100\n",
            "246/246 [==============================] - 7s 29ms/step - loss: 0.4780 - acc: 0.7683 - val_loss: 0.6998 - val_acc: 0.5168\n",
            "Epoch 94/100\n",
            "246/246 [==============================] - 7s 29ms/step - loss: 0.4816 - acc: 0.7688 - val_loss: 0.7180 - val_acc: 0.4875\n",
            "Epoch 95/100\n",
            "246/246 [==============================] - 7s 30ms/step - loss: 0.4913 - acc: 0.7495 - val_loss: 0.7220 - val_acc: 0.4832\n",
            "Epoch 96/100\n",
            "246/246 [==============================] - 7s 28ms/step - loss: 0.4767 - acc: 0.7688 - val_loss: 0.7337 - val_acc: 0.4832\n",
            "Epoch 97/100\n",
            "246/246 [==============================] - 7s 29ms/step - loss: 0.4639 - acc: 0.7668 - val_loss: 0.7357 - val_acc: 0.4832\n",
            "Epoch 98/100\n",
            "246/246 [==============================] - 8s 31ms/step - loss: 0.4729 - acc: 0.7830 - val_loss: 0.7295 - val_acc: 0.4832\n",
            "Epoch 99/100\n",
            "246/246 [==============================] - 7s 29ms/step - loss: 0.4817 - acc: 0.7612 - val_loss: 0.7207 - val_acc: 0.4832\n",
            "Epoch 100/100\n",
            "246/246 [==============================] - 7s 30ms/step - loss: 0.4675 - acc: 0.7785 - val_loss: 0.7321 - val_acc: 0.4832\n"
          ],
          "name": "stdout"
        },
        {
          "output_type": "execute_result",
          "data": {
            "text/plain": [
              "<keras.callbacks.History at 0x7f3dd9110518>"
            ]
          },
          "metadata": {
            "tags": []
          },
          "execution_count": 38
        }
      ]
    },
    {
      "cell_type": "code",
      "metadata": {
        "id": "-CC7w4CFyp2T",
        "colab_type": "code",
        "colab": {
          "base_uri": "https://localhost:8080/",
          "height": 51
        },
        "outputId": "583a8e31-a57d-4f90-b6d0-f5a7a7aac827"
      },
      "source": [
        "test_datagen=ImageDataGenerator(rescale=1./255)\n",
        "test_set=train_datagen.flow_from_directory(\n",
        "    '/content/output/test',\n",
        "    target_size=(96,96),\n",
        "    batch_size=8,\n",
        "    class_mode='binary',\n",
        "    shuffle=False\n",
        ")\n",
        "\n",
        "_, acc = mod.evaluate_generator(test_set, steps=len(test_set), verbose=0)\n",
        "print('Test Accuracy: %.3f' % (acc * 100))"
      ],
      "execution_count": 39,
      "outputs": [
        {
          "output_type": "stream",
          "text": [
            "Found 246 images belonging to 2 classes.\n",
            "Test Accuracy: 66.260\n"
          ],
          "name": "stdout"
        }
      ]
    },
    {
      "cell_type": "code",
      "metadata": {
        "id": "OHz2_DesHyVh",
        "colab_type": "code",
        "colab": {
          "base_uri": "https://localhost:8080/",
          "height": 68
        },
        "outputId": "6235ea4c-98c3-4166-c7d9-b0d97fc20d35"
      },
      "source": [
        "from sklearn.metrics import classification_report, confusion_matrix\n",
        "Y_pred =mod.predict_generator(test_set, 246 //8)\n",
        "# print(Y_pred[:20])\n",
        "\n",
        "for i in range(240):\n",
        "  if Y_pred[i]<=0.5:\n",
        "    Y_pred[i]=0\n",
        "  else:\n",
        "    Y_pred[i]=1\n",
        "\n",
        "# print(Y_pred)\n",
        "y_pred = np.argmax(Y_pred, axis=1)\n",
        "# print('hi')\n",
        "# print(y_pred[:20])\n",
        "print('Confusion Matrix')\n",
        "print(confusion_matrix(test_set.classes[:240],Y_pred))"
      ],
      "execution_count": 40,
      "outputs": [
        {
          "output_type": "stream",
          "text": [
            "Confusion Matrix\n",
            "[[76 47]\n",
            " [37 80]]\n"
          ],
          "name": "stdout"
        }
      ]
    }
  ]
}