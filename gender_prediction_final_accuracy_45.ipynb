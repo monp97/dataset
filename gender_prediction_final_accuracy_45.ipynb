{
  "nbformat": 4,
  "nbformat_minor": 0,
  "metadata": {
    "colab": {
      "name": "gender_prediction_final.ipynb",
      "provenance": [],
      "collapsed_sections": [],
      "toc_visible": true,
      "authorship_tag": "ABX9TyNzem++Tjq/1Z4AKkLu4EZw",
      "include_colab_link": true
    },
    "kernelspec": {
      "name": "python3",
      "display_name": "Python 3"
    },
    "accelerator": "GPU"
  },
  "cells": [
    {
      "cell_type": "markdown",
      "metadata": {
        "id": "view-in-github",
        "colab_type": "text"
      },
      "source": [
        "<a href=\"https://colab.research.google.com/github/monp97/dataset/blob/master/gender_prediction_final_accuracy_45.ipynb\" target=\"_parent\"><img src=\"https://colab.research.google.com/assets/colab-badge.svg\" alt=\"Open In Colab\"/></a>"
      ]
    },
    {
      "cell_type": "code",
      "metadata": {
        "id": "5yXb_Yi7JZ29",
        "colab_type": "code",
        "outputId": "18953af8-2b27-4870-e79d-a52d6e0abff1",
        "colab": {
          "base_uri": "https://localhost:8080/",
          "height": 153
        }
      },
      "source": [
        "! git clone https://github.com/monp97/dataset.git"
      ],
      "execution_count": 1,
      "outputs": [
        {
          "output_type": "stream",
          "text": [
            "Cloning into 'dataset'...\n",
            "remote: Enumerating objects: 7685, done.\u001b[K\n",
            "remote: Counting objects:   0% (1/7685)\u001b[K\rremote: Counting objects:   1% (77/7685)\u001b[K\rremote: Counting objects:   2% (154/7685)\u001b[K\rremote: Counting objects:   3% (231/7685)\u001b[K\rremote: Counting objects:   4% (308/7685)\u001b[K\rremote: Counting objects:   5% (385/7685)\u001b[K\rremote: Counting objects:   6% (462/7685)\u001b[K\rremote: Counting objects:   7% (538/7685)\u001b[K\rremote: Counting objects:   8% (615/7685)\u001b[K\rremote: Counting objects:   9% (692/7685)\u001b[K\rremote: Counting objects:  10% (769/7685)\u001b[K\rremote: Counting objects:  11% (846/7685)\u001b[K\rremote: Counting objects:  12% (923/7685)\u001b[K\rremote: Counting objects:  13% (1000/7685)\u001b[K\rremote: Counting objects:  14% (1076/7685)\u001b[K\rremote: Counting objects:  15% (1153/7685)\u001b[K\rremote: Counting objects:  16% (1230/7685)\u001b[K\rremote: Counting objects:  17% (1307/7685)\u001b[K\rremote: Counting objects:  18% (1384/7685)\u001b[K\rremote: Counting objects:  19% (1461/7685)\u001b[K\rremote: Counting objects:  20% (1537/7685)\u001b[K\rremote: Counting objects:  21% (1614/7685)\u001b[K\rremote: Counting objects:  22% (1691/7685)\u001b[K\rremote: Counting objects:  23% (1768/7685)\u001b[K\rremote: Counting objects:  24% (1845/7685)\u001b[K\rremote: Counting objects:  25% (1922/7685)\u001b[K\rremote: Counting objects:  26% (1999/7685)\u001b[K\rremote: Counting objects:  27% (2075/7685)\u001b[K\rremote: Counting objects:  28% (2152/7685)\u001b[K\rremote: Counting objects:  29% (2229/7685)\u001b[K\rremote: Counting objects:  30% (2306/7685)\u001b[K\rremote: Counting objects:  31% (2383/7685)\u001b[K\rremote: Counting objects:  32% (2460/7685)\u001b[K\rremote: Counting objects:  33% (2537/7685)\u001b[K\rremote: Counting objects:  34% (2613/7685)\u001b[K\rremote: Counting objects:  35% (2690/7685)\u001b[K\rremote: Counting objects:  36% (2767/7685)\u001b[K\rremote: Counting objects:  37% (2844/7685)\u001b[K\rremote: Counting objects:  38% (2921/7685)\u001b[K\rremote: Counting objects:  39% (2998/7685)\u001b[K\rremote: Counting objects:  40% (3074/7685)\u001b[K\rremote: Counting objects:  41% (3151/7685)\u001b[K\rremote: Counting objects:  42% (3228/7685)\u001b[K\rremote: Counting objects:  43% (3305/7685)\u001b[K\rremote: Counting objects:  44% (3382/7685)\u001b[K\rremote: Counting objects:  45% (3459/7685)\u001b[K\rremote: Counting objects:  46% (3536/7685)\u001b[K\rremote: Counting objects:  47% (3612/7685)\u001b[K\rremote: Counting objects:  48% (3689/7685)\u001b[K\rremote: Counting objects:  49% (3766/7685)\u001b[K\rremote: Counting objects:  50% (3843/7685)\u001b[K\rremote: Counting objects:  51% (3920/7685)\u001b[K\rremote: Counting objects:  52% (3997/7685)\u001b[K\rremote: Counting objects:  53% (4074/7685)\u001b[K\rremote: Counting objects:  54% (4150/7685)\u001b[K\rremote: Counting objects:  55% (4227/7685)\u001b[K\rremote: Counting objects:  56% (4304/7685)\u001b[K\rremote: Counting objects:  57% (4381/7685)\u001b[K\rremote: Counting objects:  58% (4458/7685)\u001b[K\rremote: Counting objects:  59% (4535/7685)\u001b[K\rremote: Counting objects:  60% (4611/7685)\u001b[K\rremote: Counting objects:  61% (4688/7685)\u001b[K\rremote: Counting objects:  62% (4765/7685)\u001b[K\rremote: Counting objects:  63% (4842/7685)\u001b[K\rremote: Counting objects:  64% (4919/7685)\u001b[K\rremote: Counting objects:  65% (4996/7685)\u001b[K\rremote: Counting objects:  66% (5073/7685)\u001b[K\rremote: Counting objects:  67% (5149/7685)\u001b[K\rremote: Counting objects:  68% (5226/7685)\u001b[K\rremote: Counting objects:  69% (5303/7685)\u001b[K\rremote: Counting objects:  70% (5380/7685)\u001b[K\rremote: Counting objects:  71% (5457/7685)\u001b[K\rremote: Counting objects:  72% (5534/7685)\u001b[K\rremote: Counting objects:  73% (5611/7685)\u001b[K\rremote: Counting objects:  74% (5687/7685)\u001b[K\rremote: Counting objects:  75% (5764/7685)\u001b[K\rremote: Counting objects:  76% (5841/7685)\u001b[K\rremote: Counting objects:  77% (5918/7685)\u001b[K\rremote: Counting objects:  78% (5995/7685)\u001b[K\rremote: Counting objects:  79% (6072/7685)\u001b[K\rremote: Counting objects:  80% (6148/7685)\u001b[K\rremote: Counting objects:  81% (6225/7685)\u001b[K\rremote: Counting objects:  82% (6302/7685)\u001b[K\rremote: Counting objects:  83% (6379/7685)\u001b[K\rremote: Counting objects:  84% (6456/7685)\u001b[K\rremote: Counting objects:  85% (6533/7685)\u001b[K\rremote: Counting objects:  86% (6610/7685)\u001b[K\rremote: Counting objects:  87% (6686/7685)\u001b[K\rremote: Counting objects:  88% (6763/7685)\u001b[K\rremote: Counting objects:  89% (6840/7685)\u001b[K\rremote: Counting objects:  90% (6917/7685)\u001b[K\rremote: Counting objects:  91% (6994/7685)\u001b[K\rremote: Counting objects:  92% (7071/7685)\u001b[K\rremote: Counting objects:  93% (7148/7685)\u001b[K\rremote: Counting objects:  94% (7224/7685)\u001b[K\rremote: Counting objects:  95% (7301/7685)\u001b[K\rremote: Counting objects:  96% (7378/7685)\u001b[K\rremote: Counting objects:  97% (7455/7685)\u001b[K\rremote: Counting objects:  98% (7532/7685)\u001b[K\rremote: Counting objects:  99% (7609/7685)\u001b[K\rremote: Counting objects: 100% (7685/7685)\u001b[K\rremote: Counting objects: 100% (7685/7685), done.\u001b[K\n",
            "remote: Compressing objects: 100% (7425/7425), done.\u001b[K\n",
            "remote: Total 70624 (delta 263), reused 7678 (delta 260), pack-reused 62939\u001b[K\n",
            "Receiving objects: 100% (70624/70624), 454.04 MiB | 31.55 MiB/s, done.\n",
            "Resolving deltas: 100% (3251/3251), done.\n",
            "Checking out files: 100% (128228/128228), done.\n"
          ],
          "name": "stdout"
        }
      ]
    },
    {
      "cell_type": "code",
      "metadata": {
        "id": "RGA1SKqX5Tcm",
        "colab_type": "code",
        "colab": {}
      },
      "source": [
        ""
      ],
      "execution_count": 0,
      "outputs": []
    },
    {
      "cell_type": "code",
      "metadata": {
        "id": "d6J8QShRKApg",
        "colab_type": "code",
        "outputId": "f843ae53-aa73-45f7-84a5-75835edbd8da",
        "colab": {
          "base_uri": "https://localhost:8080/",
          "height": 34
        }
      },
      "source": [
        "import os\n",
        "\n",
        "directory = \"final_dataset\"\n",
        "  \n",
        "# Parent Directory path \n",
        "parent_dir = \"/content/\"\n",
        "  \n",
        "# Path \n",
        "path = os.path.join(parent_dir, directory) \n",
        "  \n",
        "# Create the directory \n",
        "# 'GeeksForGeeks' in \n",
        "# '/home / User / Documents' \n",
        "os.mkdir(path) \n",
        "print(\"Directory '% s' created\" % directory) "
      ],
      "execution_count": 0,
      "outputs": [
        {
          "output_type": "stream",
          "text": [
            "Directory 'final_dataset' created\n"
          ],
          "name": "stdout"
        }
      ]
    },
    {
      "cell_type": "code",
      "metadata": {
        "id": "k0VN6WJdKdyq",
        "colab_type": "code",
        "colab": {}
      },
      "source": [
        "directory1 = \"training\"\n",
        "directory2 = \"test\"\n",
        "\n",
        "# Parent Directory path \n",
        "parent_dir = \"/content/final_dataset\"\n",
        "  \n",
        "# Path \n",
        "path1 = os.path.join(parent_dir, directory1) \n",
        "path2 = os.path.join(parent_dir, directory2) \n",
        "  \n",
        "# Create the directory \n",
        "# 'GeeksForGeeks' in \n",
        "# '/home / User / Documents' \n",
        "os.mkdir(path1) \n",
        "os.mkdir(path2) "
      ],
      "execution_count": 0,
      "outputs": []
    },
    {
      "cell_type": "code",
      "metadata": {
        "id": "_amUGpHgKfRm",
        "colab_type": "code",
        "colab": {}
      },
      "source": [
        "directories = [\"female_left\",\"male_left\",\"female_right\",\"male_right\"]\n",
        "  \n",
        "# Parent Directory path \n",
        "parent_dir = \"/content/final_dataset/training\"\n",
        "\n",
        "list_final_dir=[]\n",
        "\n",
        "k=1\n",
        "\n",
        "for dir in directories:\n",
        "  for i in range(5):\n",
        "    list_final_dir.append(dir+'_'+str(i+1)+'_0'+str(k))\n",
        "    k+=1\n",
        "  \n",
        "# Path \n",
        "# path1 = os.path.join(parent_dir, directory1) \n",
        "# path2 = os.path.join(parent_dir, directory2) \n",
        "\n",
        "for i in range(len(list_final_dir)):\n",
        "  path = os.path.join(parent_dir, list_final_dir[i]) \n",
        "  os.mkdir(path) \n",
        "   \n",
        "# # Create the directory \n",
        "# # 'GeeksForGeeks' in \n",
        "# # '/home / User / Documents' \n",
        "# os.mkdir(path1) \n",
        "# os.mkdir(path2) "
      ],
      "execution_count": 0,
      "outputs": []
    },
    {
      "cell_type": "code",
      "metadata": {
        "id": "VMrTTORAMjTM",
        "colab_type": "code",
        "colab": {}
      },
      "source": [
        "directories = [\"female_left\",\"male_left\",\"female_right\",\"male_right\"]\n",
        "\n",
        "  \n",
        "# Parent Directory path \n",
        "parent_dir = \"/content/final_dataset/test\"\n",
        "\n",
        "list_final_dir=[]\n",
        "\n",
        "k=1\n",
        "\n",
        "for dir in directories:\n",
        "  for i in range(5):\n",
        "    list_final_dir.append(dir+'_'+str(i+1)+'_0'+str(k))\n",
        "    k+=1\n",
        "  \n",
        "# Path \n",
        "# path1 = os.path.join(parent_dir, directory1) \n",
        "# path2 = os.path.join(parent_dir, directory2) \n",
        "\n",
        "for i in range(len(list_final_dir)):\n",
        "  path = os.path.join(parent_dir, list_final_dir[i]) \n",
        "  os.mkdir(path) "
      ],
      "execution_count": 0,
      "outputs": []
    },
    {
      "cell_type": "code",
      "metadata": {
        "id": "ZolFXNntNg2W",
        "colab_type": "code",
        "colab": {}
      },
      "source": [
        "import cv2\n",
        "import os\n",
        "import shutil\n",
        "\n",
        "dst = 'path/to/dest_dir'\n",
        "\n",
        "images = []\n",
        "i=0\n",
        "f=0\n",
        "m=0\n",
        "\n",
        "dic={\n",
        "    'female_left_1':\"01\",\n",
        "    'female_left_2':\"02\",\n",
        "    'female_left_3':\"03\",\n",
        "    'female_left_4':\"04\",\n",
        "    'female_left_5':\"05\",\n",
        "    'female_right_1':\"011\",\n",
        "    'female_right_2':\"012\",\n",
        "    'female_right_3':\"013\",\n",
        "    'female_right_4':\"014\",\n",
        "    'female_right_5':\"015\",\n",
        "    'male_left_1':\"06\",\n",
        "    'male_left_2':\"07\",\n",
        "    'male_left_3':\"08\",\n",
        "    'male_left_4':\"09\",\n",
        "    'male_left_5':\"010\",\n",
        "    'male_right_1':\"016\",\n",
        "    'male_right_2':\"017\",\n",
        "    'male_right_3':\"018\",\n",
        "    'male_right_4':\"019\",\n",
        "    'male_right_5':\"020\",\n",
        "}\n",
        "\n",
        "\n",
        "for filename in os.listdir('/content/dataset/Real'):\n",
        "        subject_id, etc = filename.split('__')\n",
        "        gender, lr, finger, _ = etc.split('_')\n",
        "        src='/content/dataset/Real/'+filename\n",
        "        i=i+1\n",
        "\n",
        "        refer = {\n",
        "          \"index\": \"1\",\n",
        "          \"middle\": \"2\",\n",
        "          \"ring\":\"3\",\n",
        "          \"little\":\"4\",\n",
        "          \"thumb\":\"5\"\n",
        "        }\n",
        "\n",
        "        dir_name=''\n",
        "\n",
        "        if gender=='M':\n",
        "          dir_name=dir_name+'male_'\n",
        "        else:\n",
        "          dir_name=dir_name+'female_'\n",
        "\n",
        "        if lr=='Left':\n",
        "          dir_name=dir_name+'left_'\n",
        "        else:\n",
        "          dir_name=dir_name+'right_'\n",
        "\n",
        "        dir_name=dir_name+refer[finger]\n",
        "\n",
        "        name=dir_name\n",
        "\n",
        "        dir_name=name+'_'+str(dic[name])\n",
        "\n",
        "        shutil.copy(src,'/content/final_dataset/training/'+dir_name)"
      ],
      "execution_count": 0,
      "outputs": []
    },
    {
      "cell_type": "code",
      "metadata": {
        "id": "2FK_H70DPLsU",
        "colab_type": "code",
        "colab": {}
      },
      "source": [
        ""
      ],
      "execution_count": 0,
      "outputs": []
    },
    {
      "cell_type": "code",
      "metadata": {
        "id": "Y26Sau2DkWJN",
        "colab_type": "code",
        "colab": {}
      },
      "source": [
        "import shutil\n",
        "import os\n",
        "import numpy as np\n",
        "import argparse\n",
        "\n",
        "def get_files_from_folder(path):\n",
        "\n",
        "    files = os.listdir(path)\n",
        "    return np.asarray(files)\n",
        "\n",
        "def main(path_to_data, path_to_test_data, train_ratio):\n",
        "    # get dirs\n",
        "    _, dirs, _ = next(os.walk(path_to_data))\n",
        "\n",
        "    # calculates how many train data per class\n",
        "    data_counter_per_class = np.zeros((len(dirs)))\n",
        "    for i in range(len(dirs)):\n",
        "        path = os.path.join(path_to_data, dirs[i])\n",
        "        files = get_files_from_folder(path)\n",
        "        data_counter_per_class[i] = len(files)\n",
        "    test_counter = np.round(data_counter_per_class * (1 - train_ratio))\n",
        "\n",
        "    # transfers files\n",
        "    for i in range(len(dirs)):\n",
        "        path_to_original = os.path.join(path_to_data, dirs[i])\n",
        "        path_to_save = os.path.join(path_to_test_data, dirs[i])\n",
        "\n",
        "        #creates dir\n",
        "        if not os.path.exists(path_to_save):\n",
        "            os.makedirs(path_to_save)\n",
        "        files = get_files_from_folder(path_to_original)\n",
        "        # moves data\n",
        "        for j in range(int(test_counter[i])):\n",
        "            dst = os.path.join(path_to_save, files[j])\n",
        "            src = os.path.join(path_to_original, files[j])\n",
        "            shutil.move(src, dst)\n",
        "\n",
        "    \n",
        "# def parse_args():\n",
        "#   parser = argparse.ArgumentParser(description=\"Dataset divider\")\n",
        "#   parser.add_argument(\"--data_path\", required=True,\n",
        "#     help=\"Path to data\")\n",
        "#   parser.add_argument(\"--test_data_path_to_save\", required=True,\n",
        "#     help=\"Path to test data where to save\")\n",
        "#   parser.add_argument(\"--train_ratio\", required=True,\n",
        "#     help=\"Train ratio - 0.7 means splitting data in 70 % train and 30 % test\")\n",
        "#   return parser.parse_args()\n",
        "\n",
        "if __name__ == \"__main__\":\n",
        "  # args = parse_args()\n",
        "  # args.data_path='/content/final_dataset/training'\n",
        "  # args.test_data_path_to_save='/content/final_dataset/test'\n",
        "  # args.train_ratio=0.8\n",
        "  main('/content/final_dataset/training','/content/final_dataset/test', float(0.8))\n"
      ],
      "execution_count": 0,
      "outputs": []
    },
    {
      "cell_type": "code",
      "metadata": {
        "id": "1S2QeAqAPRGU",
        "colab_type": "code",
        "colab": {}
      },
      "source": [
        ""
      ],
      "execution_count": 0,
      "outputs": []
    },
    {
      "cell_type": "code",
      "metadata": {
        "id": "1uNq6-FqY52p",
        "colab_type": "code",
        "outputId": "327df9a1-9484-40a3-83d3-194fd4d5cef8",
        "colab": {
          "base_uri": "https://localhost:8080/",
          "height": 697
        }
      },
      "source": [
        "source1 = \"/content/final_dataset/training\"\n",
        "dest11 = \"/content/final_dataset/test\"\n",
        "\n",
        "files1 = os.listdir(source1)\n",
        "files2 = os.listdir(dest11)\n",
        "\n",
        "\n",
        "for file in files1:\n",
        "  files_file= os.listdir(\"/content/final_dataset/training/\"+file)\n",
        "  print(\"training data \"+str(file)+' '+str(len(files_file)))\n",
        "\n",
        "\n",
        "for file in files2:\n",
        "  files_file= os.listdir(\"/content/final_dataset/test/\"+file)\n",
        "  print(\"test data \"+str(file)+' '+str(len(files_file)))\n",
        "\n"
      ],
      "execution_count": 0,
      "outputs": [
        {
          "output_type": "stream",
          "text": [
            "training data female_left_3_03 98\n",
            "training data male_left_1_06 382\n",
            "training data female_right_2_012 98\n",
            "training data male_left_3_08 382\n",
            "training data male_right_1_016 382\n",
            "training data female_left_4_04 98\n",
            "training data female_right_1_011 98\n",
            "training data male_left_4_09 382\n",
            "training data female_left_5_05 98\n",
            "training data male_right_4_019 382\n",
            "training data female_right_3_013 98\n",
            "training data female_left_2_02 98\n",
            "training data female_left_1_01 98\n",
            "training data male_left_5_010 382\n",
            "training data male_right_5_020 382\n",
            "training data male_right_3_018 382\n",
            "training data female_right_4_014 98\n",
            "training data male_left_2_07 382\n",
            "training data male_right_2_017 382\n",
            "training data female_right_5_015 98\n",
            "test data female_left_3_03 25\n",
            "test data male_left_1_06 95\n",
            "test data female_right_2_012 25\n",
            "test data male_left_3_08 95\n",
            "test data male_right_1_016 95\n",
            "test data female_left_4_04 25\n",
            "test data female_right_1_011 25\n",
            "test data male_left_4_09 95\n",
            "test data female_left_5_05 25\n",
            "test data male_right_4_019 95\n",
            "test data female_right_3_013 25\n",
            "test data female_left_2_02 25\n",
            "test data female_left_1_01 25\n",
            "test data male_left_5_010 95\n",
            "test data male_right_5_020 95\n",
            "test data male_right_3_018 95\n",
            "test data female_right_4_014 25\n",
            "test data male_left_2_07 95\n",
            "test data male_right_2_017 95\n",
            "test data female_right_5_015 25\n"
          ],
          "name": "stdout"
        }
      ]
    },
    {
      "cell_type": "code",
      "metadata": {
        "id": "V2O-ntxyQH3-",
        "colab_type": "code",
        "colab": {}
      },
      "source": [
        "import numpy as np\n",
        "def processImage(img):\n",
        "  gray = cv2.cvtColor(image, cv2.COLOR_BGR2GRAY)\n",
        "  res = cv2.resize(gray, dsize=(64, 64), interpolation=cv2.INTER_CUBIC)\n",
        "  # print(res.shape)\n",
        "  return res"
      ],
      "execution_count": 0,
      "outputs": []
    },
    {
      "cell_type": "code",
      "metadata": {
        "id": "STPw9ogIPXtc",
        "colab_type": "code",
        "outputId": "d91d3aa9-04f2-4519-cb17-8100f11bfe23",
        "colab": {
          "base_uri": "https://localhost:8080/",
          "height": 272
        }
      },
      "source": [
        "from google.colab.patches import cv2_imshow\n",
        "source1 = \"/content/final_dataset/training\"\n",
        "files1 = os.listdir(source1)\n",
        "img_list=[]\n",
        "i=0\n",
        "for file in files2:\n",
        "  path=\"/content/final_dataset/training/\"+file\n",
        "  files_file= os.listdir(path)\n",
        "  # print(\"test data \"+str(file)+' '+str(len(files_file)))\n",
        "  for file1 in files_file:\n",
        "    image = cv2.imread(path+'/'+file1)\n",
        "    preprocessed_img=processImage(image)\n",
        "    tuple_img=np.append(preprocessed_img.flatten(),np.array([file]))\n",
        "    img_list.append(tuple_img)\n",
        "\n",
        "\n",
        "print(len(img_list))\n",
        "\n",
        "import pandas as pd\n",
        "df = pd.DataFrame(img_list)\n",
        "print(df)\n",
        "df.to_csv('img_bkup.csv', index=False)\n"
      ],
      "execution_count": 0,
      "outputs": [
        {
          "output_type": "stream",
          "text": [
            "4800\n",
            "     0    1    2    3    4    5     ... 4091 4092 4093 4094 4095                4096\n",
            "0     157  138  137  137  137  137  ...    0    0    0    0    0    female_left_3_03\n",
            "1     157  138  137  137  137  137  ...    0    0    0    0    0    female_left_3_03\n",
            "2     157  138  137  137  137  137  ...    0    0    0    0    0    female_left_3_03\n",
            "3     157  138  137  137  137  137  ...    0    0    0    0    0    female_left_3_03\n",
            "4     157  138  137  137  137  137  ...    0    0    0    0    0    female_left_3_03\n",
            "...   ...  ...  ...  ...  ...  ...  ...  ...  ...  ...  ...  ...                 ...\n",
            "4795  157  138  137  137  137  137  ...    0    0    0    0    0  female_right_5_015\n",
            "4796  157  138  137  137  137  137  ...    0    0    0    0    0  female_right_5_015\n",
            "4797  157  138  137  137  137  137  ...    0    0    0    0    0  female_right_5_015\n",
            "4798  157  138  137  137  137  137  ...    0    0    0    0    0  female_right_5_015\n",
            "4799  157  138  137  137  137  137  ...    0    0    0    0    0  female_right_5_015\n",
            "\n",
            "[4800 rows x 4097 columns]\n"
          ],
          "name": "stdout"
        }
      ]
    },
    {
      "cell_type": "code",
      "metadata": {
        "id": "ZBWXurr5QG9d",
        "colab_type": "code",
        "outputId": "291cd803-50db-4f39-8dda-a5887ecb14a5",
        "colab": {
          "base_uri": "https://localhost:8080/",
          "height": 34
        }
      },
      "source": [
        "import os\n",
        "\n",
        "directory = \"final_dataset_smote\"\n",
        "# Parent Directory path \n",
        "parent_dir = \"/content/\" \n",
        "# Path \n",
        "path = os.path.join(parent_dir, directory) \n",
        "# Create the directory \n",
        "# 'GeeksForGeeks' in \n",
        "# '/home / User / Documents' \n",
        "os.mkdir(path) \n",
        "print(\"Directory '% s' created\" % directory) "
      ],
      "execution_count": 0,
      "outputs": [
        {
          "output_type": "stream",
          "text": [
            "Directory 'final_dataset_smote' created\n"
          ],
          "name": "stdout"
        }
      ]
    },
    {
      "cell_type": "code",
      "metadata": {
        "id": "vus3AYSQlvAM",
        "colab_type": "code",
        "colab": {
          "base_uri": "https://localhost:8080/",
          "height": 198
        },
        "outputId": "af3178e9-87bd-481d-9e57-57cf5a123224"
      },
      "source": [
        "directory1 = \"training\"\n",
        "directory2 = \"test\"\n",
        "\n",
        "# Parent Directory path \n",
        "parent_dir = \"/content/final_dataset_smote\"\n",
        "  \n",
        "# Path \n",
        "path1 = os.path.join(parent_dir, directory1) \n",
        "path2 = os.path.join(parent_dir, directory2) \n",
        "  \n",
        "# Create the directory \n",
        "# 'GeeksForGeeks' in \n",
        "# '/home / User / Documents' \n",
        "os.mkdir(path1) \n",
        "os.mkdir(path2) "
      ],
      "execution_count": 21,
      "outputs": [
        {
          "output_type": "error",
          "ename": "FileNotFoundError",
          "evalue": "ignored",
          "traceback": [
            "\u001b[0;31m---------------------------------------------------------------------------\u001b[0m",
            "\u001b[0;31mFileNotFoundError\u001b[0m                         Traceback (most recent call last)",
            "\u001b[0;32m<ipython-input-21-5f8fedb62abd>\u001b[0m in \u001b[0;36m<module>\u001b[0;34m()\u001b[0m\n\u001b[1;32m     12\u001b[0m \u001b[0;31m# '/home / User / Documents'\u001b[0m\u001b[0;34m\u001b[0m\u001b[0;34m\u001b[0m\u001b[0;34m\u001b[0m\u001b[0m\n\u001b[1;32m     13\u001b[0m \u001b[0;31m# os.mkdir(path1)\u001b[0m\u001b[0;34m\u001b[0m\u001b[0;34m\u001b[0m\u001b[0;34m\u001b[0m\u001b[0m\n\u001b[0;32m---> 14\u001b[0;31m \u001b[0mos\u001b[0m\u001b[0;34m.\u001b[0m\u001b[0mmkdir\u001b[0m\u001b[0;34m(\u001b[0m\u001b[0mpath2\u001b[0m\u001b[0;34m)\u001b[0m\u001b[0;34m\u001b[0m\u001b[0;34m\u001b[0m\u001b[0m\n\u001b[0m",
            "\u001b[0;31mFileNotFoundError\u001b[0m: [Errno 2] No such file or directory: '/content/final_dataset_smote/test'"
          ]
        }
      ]
    },
    {
      "cell_type": "code",
      "metadata": {
        "id": "BZdsT8BSl8sA",
        "colab_type": "code",
        "colab": {}
      },
      "source": [
        "directories = [\"female_left\",\"male_left\",\"female_right\",\"male_right\"]\n",
        "  \n",
        "# Parent Directory path \n",
        "parent_dir = \"/content/final_dataset_smote/training\"\n",
        "\n",
        "list_final_dir=[]\n",
        "\n",
        "k=1\n",
        "\n",
        "for dir in directories:\n",
        "  for i in range(5):\n",
        "    list_final_dir.append(dir+'_'+str(i+1)+'_0'+str(k))\n",
        "    k+=1\n",
        "  \n",
        "# Path \n",
        "# path1 = os.path.join(parent_dir, directory1) \n",
        "# path2 = os.path.join(parent_dir, directory2) \n",
        "\n",
        "for i in range(len(list_final_dir)):\n",
        "  path = os.path.join(parent_dir, list_final_dir[i]) \n",
        "  os.mkdir(path) "
      ],
      "execution_count": 0,
      "outputs": []
    },
    {
      "cell_type": "code",
      "metadata": {
        "id": "mZbocd9smApj",
        "colab_type": "code",
        "colab": {}
      },
      "source": [
        "import os\n",
        "directories = [\"female_left\",\"male_left\",\"female_right\",\"male_right\"]\n",
        "  \n",
        "# Parent Directory path \n",
        "parent_dir = \"/content/final_dataset_smote/test\"\n",
        "\n",
        "list_final_dir=[]\n",
        "\n",
        "k=1\n",
        "\n",
        "for dir in directories:\n",
        "  for i in range(5):\n",
        "    list_final_dir.append(dir+'_'+str(i+1)+'_0'+str(k))\n",
        "    k+=1\n",
        "  \n",
        "# Path \n",
        "# path1 = os.path.join(parent_dir, directory1) \n",
        "# path2 = os.path.join(parent_dir, directory2) \n",
        "\n",
        "for i in range(len(list_final_dir)):\n",
        "  path = os.path.join(parent_dir, list_final_dir[i]) \n",
        "  os.mkdir(path) "
      ],
      "execution_count": 0,
      "outputs": []
    },
    {
      "cell_type": "code",
      "metadata": {
        "id": "m4uCZfDlmDQj",
        "colab_type": "code",
        "outputId": "bc56deb0-c72a-494b-a59b-53047141ed09",
        "colab": {
          "base_uri": "https://localhost:8080/",
          "height": 377
        }
      },
      "source": [
        "import pandas as pd\n",
        "\n",
        "from imblearn.over_sampling import SMOTE \n",
        "sm = SMOTE(random_state = 20)\n",
        "df=pd.read_csv('/content/img_bkup.csv')\n",
        "X_train=df.iloc[:, :-1]\n",
        "y_train=df.iloc[:,-1]\n",
        "# print(X_train)\n",
        "# print(y_train)\n",
        "X_train_res, y_train_res = sm.fit_sample(X_train, y_train.ravel()) "
      ],
      "execution_count": 0,
      "outputs": [
        {
          "output_type": "stream",
          "text": [
            "/usr/local/lib/python3.6/dist-packages/sklearn/utils/deprecation.py:87: FutureWarning: Function safe_indexing is deprecated; safe_indexing is deprecated in version 0.22 and will be removed in version 0.24.\n",
            "  warnings.warn(msg, category=FutureWarning)\n",
            "/usr/local/lib/python3.6/dist-packages/sklearn/utils/deprecation.py:87: FutureWarning: Function safe_indexing is deprecated; safe_indexing is deprecated in version 0.22 and will be removed in version 0.24.\n",
            "  warnings.warn(msg, category=FutureWarning)\n",
            "/usr/local/lib/python3.6/dist-packages/sklearn/utils/deprecation.py:87: FutureWarning: Function safe_indexing is deprecated; safe_indexing is deprecated in version 0.22 and will be removed in version 0.24.\n",
            "  warnings.warn(msg, category=FutureWarning)\n",
            "/usr/local/lib/python3.6/dist-packages/sklearn/utils/deprecation.py:87: FutureWarning: Function safe_indexing is deprecated; safe_indexing is deprecated in version 0.22 and will be removed in version 0.24.\n",
            "  warnings.warn(msg, category=FutureWarning)\n",
            "/usr/local/lib/python3.6/dist-packages/sklearn/utils/deprecation.py:87: FutureWarning: Function safe_indexing is deprecated; safe_indexing is deprecated in version 0.22 and will be removed in version 0.24.\n",
            "  warnings.warn(msg, category=FutureWarning)\n",
            "/usr/local/lib/python3.6/dist-packages/sklearn/utils/deprecation.py:87: FutureWarning: Function safe_indexing is deprecated; safe_indexing is deprecated in version 0.22 and will be removed in version 0.24.\n",
            "  warnings.warn(msg, category=FutureWarning)\n",
            "/usr/local/lib/python3.6/dist-packages/sklearn/utils/deprecation.py:87: FutureWarning: Function safe_indexing is deprecated; safe_indexing is deprecated in version 0.22 and will be removed in version 0.24.\n",
            "  warnings.warn(msg, category=FutureWarning)\n",
            "/usr/local/lib/python3.6/dist-packages/sklearn/utils/deprecation.py:87: FutureWarning: Function safe_indexing is deprecated; safe_indexing is deprecated in version 0.22 and will be removed in version 0.24.\n",
            "  warnings.warn(msg, category=FutureWarning)\n",
            "/usr/local/lib/python3.6/dist-packages/sklearn/utils/deprecation.py:87: FutureWarning: Function safe_indexing is deprecated; safe_indexing is deprecated in version 0.22 and will be removed in version 0.24.\n",
            "  warnings.warn(msg, category=FutureWarning)\n",
            "/usr/local/lib/python3.6/dist-packages/sklearn/utils/deprecation.py:87: FutureWarning: Function safe_indexing is deprecated; safe_indexing is deprecated in version 0.22 and will be removed in version 0.24.\n",
            "  warnings.warn(msg, category=FutureWarning)\n"
          ],
          "name": "stderr"
        }
      ]
    },
    {
      "cell_type": "code",
      "metadata": {
        "id": "yD9mLDunnwGU",
        "colab_type": "code",
        "outputId": "b8fa031b-be7d-4d66-fbe6-1e64f025a2cf",
        "colab": {
          "base_uri": "https://localhost:8080/",
          "height": 34
        }
      },
      "source": [
        "X_train_res.shape"
      ],
      "execution_count": 0,
      "outputs": [
        {
          "output_type": "execute_result",
          "data": {
            "text/plain": [
              "(7640, 4096)"
            ]
          },
          "metadata": {
            "tags": []
          },
          "execution_count": 91
        }
      ]
    },
    {
      "cell_type": "code",
      "metadata": {
        "id": "F4c_xKp2nzHZ",
        "colab_type": "code",
        "outputId": "6094261e-ccb0-4a4e-bcbd-b89152f5a5f0",
        "colab": {
          "base_uri": "https://localhost:8080/",
          "height": 34
        }
      },
      "source": [
        "y_train_res.shape"
      ],
      "execution_count": 0,
      "outputs": [
        {
          "output_type": "execute_result",
          "data": {
            "text/plain": [
              "(7640,)"
            ]
          },
          "metadata": {
            "tags": []
          },
          "execution_count": 92
        }
      ]
    },
    {
      "cell_type": "code",
      "metadata": {
        "id": "bBHeriaHn1gf",
        "colab_type": "code",
        "colab": {}
      },
      "source": [
        "smote_img_arr_res=np.hstack((X_train_res,y_train_res.reshape(7640,1)))"
      ],
      "execution_count": 0,
      "outputs": []
    },
    {
      "cell_type": "code",
      "metadata": {
        "id": "LZJrFi7XoOiP",
        "colab_type": "code",
        "outputId": "96d5380d-c153-4937-b110-393ac78183eb",
        "colab": {
          "base_uri": "https://localhost:8080/",
          "height": 136
        }
      },
      "source": [
        "print(smote_img_arr_res)"
      ],
      "execution_count": 0,
      "outputs": [
        {
          "output_type": "stream",
          "text": [
            "[[157 138 137 ... 0 0 'female_left_3_03']\n",
            " [157 138 137 ... 0 0 'female_left_3_03']\n",
            " [157 138 137 ... 0 0 'female_left_3_03']\n",
            " ...\n",
            " [157 138 137 ... 0 0 'female_right_5_015']\n",
            " [157 138 137 ... 0 0 'female_right_5_015']\n",
            " [157 138 137 ... 0 0 'female_right_5_015']]\n"
          ],
          "name": "stdout"
        }
      ]
    },
    {
      "cell_type": "code",
      "metadata": {
        "id": "_xZggJ43oSxq",
        "colab_type": "code",
        "colab": {}
      },
      "source": [
        "import pandas as pd\n",
        "df = pd.DataFrame(smote_img_arr_res)\n",
        "df.to_csv('smote_img_bkup.csv', index=False)"
      ],
      "execution_count": 0,
      "outputs": []
    },
    {
      "cell_type": "code",
      "metadata": {
        "id": "zMhqi-FSoyID",
        "colab_type": "code",
        "colab": {}
      },
      "source": [
        "df=pd.read_csv('/content/smote_img_bkup.csv')\n",
        "img=df.iloc[:, :-1]\n",
        "labels=df.iloc[:,-1]\n",
        "\n",
        "np_arr_img=img.values\n",
        "labels_arr_img=labels.values\n",
        "\n",
        "dic={\n",
        "    'female_left_1_01':0,\n",
        "    'female_left_2_02':0,\n",
        "    'female_left_3_03':0,\n",
        "    'female_left_4_04':0,\n",
        "    'female_left_5_05':0,\n",
        "    'female_right_1_011':0,\n",
        "    'female_right_2_012':0,\n",
        "    'female_right_3_013':0,\n",
        "    'female_right_4_014':0,\n",
        "    'female_right_5_015':0,\n",
        "    'male_left_1_06':0,\n",
        "    'male_left_2_07':0,\n",
        "    'male_left_3_08':0,\n",
        "    'male_left_4_09':0,\n",
        "    'male_left_5_010':0,\n",
        "    'male_right_1_016':0,\n",
        "    'male_right_2_017':0,\n",
        "    'male_right_3_018':0,\n",
        "    'male_right_4_019':0,\n",
        "    'male_right_5_020':0,\n",
        "}\n",
        "\n",
        "\n",
        "for i in range(7640):\n",
        "  img=np_arr_img[i].reshape(64,64)\n",
        "  label=labels_arr_img[i]\n",
        "  count=dic[label]\n",
        "  dic[label]=count+1\n",
        "  dest='/content/final_dataset_smote/training/'+label+'/'\n",
        "  cv2.imwrite(os.path.join(dest, label+'_'+str(dic[label])+'.BMP'), img)\n",
        "\n",
        "\n",
        "\n",
        "  \n"
      ],
      "execution_count": 0,
      "outputs": []
    },
    {
      "cell_type": "code",
      "metadata": {
        "id": "_Ht7FEREu9dw",
        "colab_type": "code",
        "outputId": "d614abf2-dc9b-4036-98bf-4b30d2c5752d",
        "colab": {
          "base_uri": "https://localhost:8080/",
          "height": 714
        }
      },
      "source": [
        "source1 = \"/content/final_dataset_smote/training\"\n",
        "dest11 = \"/content/final_dataset_smote/test\"\n",
        "\n",
        "files1 = os.listdir(source1)\n",
        "files2 = os.listdir(dest11)\n",
        "\n",
        "\n",
        "for file in files1:\n",
        "  files_file= os.listdir(\"/content/final_dataset_smote/training/\"+file)\n",
        "  print(\"training data \"+str(file)+' '+str(len(files_file)))\n",
        "\n",
        "\n",
        "for file in files2:\n",
        "  files_file= os.listdir(\"/content/final_dataset_smote/test/\"+file)\n",
        "  print(\"test data \"+str(file)+' '+str(len(files_file)))"
      ],
      "execution_count": 0,
      "outputs": [
        {
          "output_type": "stream",
          "text": [
            "training data female_left_3_03 383\n",
            "training data male_left_1_06 382\n",
            "training data female_right_2_012 382\n",
            "training data male_left_3_08 382\n",
            "training data male_right_1_016 382\n",
            "training data female_left_4_04 382\n",
            "training data female_right_1_011 382\n",
            "training data male_left_4_09 382\n",
            "training data female_left_5_05 382\n",
            "training data male_right_4_019 382\n",
            "training data female_right_3_013 382\n",
            "training data female_left_2_02 382\n",
            "training data female_left_1_01 382\n",
            "training data male_left_5_010 382\n",
            "training data male_right_5_020 382\n",
            "training data male_right_3_018 382\n",
            "training data female_right_4_014 382\n",
            "training data male_left_2_07 382\n",
            "training data male_right_2_017 382\n",
            "training data .ipynb_checkpoints 0\n",
            "training data female_right_5_015 382\n",
            "test data female_left_3_03 25\n",
            "test data male_left_1_06 95\n",
            "test data female_right_2_012 25\n",
            "test data male_left_3_08 95\n",
            "test data male_right_1_016 95\n",
            "test data female_left_4_04 25\n",
            "test data female_right_1_011 25\n",
            "test data male_left_4_09 95\n",
            "test data female_left_5_05 25\n",
            "test data male_right_4_019 95\n",
            "test data female_right_3_013 25\n",
            "test data female_left_2_02 25\n",
            "test data female_left_1_01 25\n",
            "test data male_left_5_010 95\n",
            "test data male_right_5_020 95\n",
            "test data male_right_3_018 95\n",
            "test data female_right_4_014 25\n",
            "test data male_left_2_07 95\n",
            "test data male_right_2_017 95\n",
            "test data female_right_5_015 25\n"
          ],
          "name": "stdout"
        }
      ]
    },
    {
      "cell_type": "code",
      "metadata": {
        "id": "Unz0-57bw_zW",
        "colab_type": "code",
        "colab": {
          "base_uri": "https://localhost:8080/",
          "height": 54
        },
        "outputId": "805c3be9-a334-42a0-c31a-a6b2f5910406"
      },
      "source": [
        "from distutils.dir_util import copy_tree\n",
        "from os import listdir,makedirs\n",
        "from os.path import isfile,join\n",
        "import cv2\n",
        "\n",
        "# copy subdirectory example\n",
        "fromDirectory = \"/a/b/c\"\n",
        "toDirectory = \"/x/y/z\"\n",
        "\n",
        "source1 = \"/content/dataset/smote_dataset/final_dataset_smote/test\"\n",
        "files1 = os.listdir(source1)\n",
        "\n",
        "print(files)\n",
        "\n",
        "for folder in files1:\n",
        "  path=source1+'/'+folder\n",
        "  dstpath='/content/dataset/final_dataset_smote/test/'+folder\n",
        "  files = os.listdir(path)\n",
        "  for image in files:\n",
        "    img = cv2.imread(os.path.join(path,image))\n",
        "    gray = cv2.cvtColor(img,cv2.COLOR_BGR2GRAY)\n",
        "    dstPath = join(dstpath,image)\n",
        "    cv2.imwrite(dstPath,gray)\n"
      ],
      "execution_count": 30,
      "outputs": [
        {
          "output_type": "stream",
          "text": [
            "['24__F_Right_ring_finger.BMP', '42__F_Right_ring_finger.BMP', '154__F_Right_ring_finger.BMP', '452__F_Right_ring_finger.BMP', '334__F_Right_ring_finger.BMP', '191__F_Right_ring_finger.BMP', '572__F_Right_ring_finger.BMP', '556__F_Right_ring_finger.BMP', '494__F_Right_ring_finger.BMP', '379__F_Right_ring_finger.BMP', '109__F_Right_ring_finger.BMP', '536__F_Right_ring_finger.BMP', '551__F_Right_ring_finger.BMP', '449__F_Right_ring_finger.BMP', '369__F_Right_ring_finger.BMP', '30__F_Right_ring_finger.BMP', '48__F_Right_ring_finger.BMP', '201__F_Right_ring_finger.BMP', '66__F_Right_ring_finger.BMP', '289__F_Right_ring_finger.BMP', '275__F_Right_ring_finger.BMP', '47__F_Right_ring_finger.BMP', '13__F_Right_ring_finger.BMP', '470__F_Right_ring_finger.BMP', '502__F_Right_ring_finger.BMP']\n"
          ],
          "name": "stdout"
        }
      ]
    },
    {
      "cell_type": "code",
      "metadata": {
        "id": "jxYhnFgXZxze",
        "colab_type": "code",
        "colab": {
          "base_uri": "https://localhost:8080/",
          "height": 153
        },
        "outputId": "2a777fcb-66c8-4713-d56e-1c2a5f9b0e15"
      },
      "source": [
        "# source1 = \"/content/dataset/final_dataset_smote/test/female_left_1_01\"\n",
        "# files1 = os.listdir(source1)\n",
        "from google.colab.patches import cv2_imshow\n",
        "\n",
        "img = cv2.imread('/content/dataset/final_dataset_smote/test/female_left_1_01/140__F_Left_index_finger.BMP',cv2.IMREAD_GRAYSCALE)\n",
        "print(img.shape)\n",
        "print(img)"
      ],
      "execution_count": 39,
      "outputs": [
        {
          "output_type": "stream",
          "text": [
            "(103, 96)\n",
            "[[160 160 160 ...   0   0   0]\n",
            " [160 105 105 ...   0   0   0]\n",
            " [160 105 255 ...   0   0   0]\n",
            " ...\n",
            " [  0   0   0 ...   0   0   0]\n",
            " [  0   0   0 ...   0   0   0]\n",
            " [  0   0   0 ...   0   0   0]]\n"
          ],
          "name": "stdout"
        }
      ]
    },
    {
      "cell_type": "code",
      "metadata": {
        "id": "LCTLIexzVt8j",
        "colab_type": "code",
        "colab": {}
      },
      "source": [
        "import shutil\n",
        "shutil.rmtree('/content/dataset/final_dataset_smote/test')"
      ],
      "execution_count": 0,
      "outputs": []
    },
    {
      "cell_type": "code",
      "metadata": {
        "id": "9CZuP-oGx6Lh",
        "colab_type": "code",
        "colab": {}
      },
      "source": [
        "!zip -r /content/smote_data_2.zip /content/final_dataset_smote"
      ],
      "execution_count": 0,
      "outputs": []
    },
    {
      "cell_type": "code",
      "metadata": {
        "id": "5Y1ydmsU5Uy3",
        "colab_type": "code",
        "colab": {
          "base_uri": "https://localhost:8080/",
          "height": 51
        },
        "outputId": "1802e0df-ebf5-4a9a-eb4d-553f16769457"
      },
      "source": [
        "from keras.preprocessing.image import ImageDataGenerator\n",
        "import numpy as np\n",
        "\n",
        "\n",
        "\n",
        "train_datagen=ImageDataGenerator(\n",
        "    rescale=1./255,\n",
        "    shear_range=0.2,\n",
        "    zoom_range=0.2,\n",
        "    horizontal_flip=True,\n",
        "   \n",
        ")\n",
        "\n",
        "test_datagen=ImageDataGenerator(rescale=1./255)\n",
        "\n",
        "training_set=train_datagen.flow_from_directory(\n",
        "    '/content/dataset/final_dataset_smote/training',\n",
        "    target_size=(64,64),\n",
        "    batch_size=64,\n",
        "    color_mode=\"grayscale\",\n",
        "    class_mode='categorical',\n",
        "    shuffle=True\n",
        ")\n",
        "\n",
        "test_set=test_datagen.flow_from_directory(\n",
        "    '/content/dataset/final_dataset_smote/test',\n",
        "    target_size=(64,64),\n",
        "    batch_size=64,\n",
        "    color_mode=\"grayscale\",\n",
        "    class_mode='categorical',\n",
        "    shuffle=False\n",
        ")"
      ],
      "execution_count": 72,
      "outputs": [
        {
          "output_type": "stream",
          "text": [
            "Found 7640 images belonging to 20 classes.\n",
            "Found 1200 images belonging to 20 classes.\n"
          ],
          "name": "stdout"
        }
      ]
    },
    {
      "cell_type": "code",
      "metadata": {
        "id": "tUpL35445kjh",
        "colab_type": "code",
        "colab": {}
      },
      "source": [
        "from keras.models import Sequential\n",
        "from keras.layers import Convolution2D\n",
        "from keras.layers import MaxPooling2D\n",
        "from keras.layers import Flatten\n",
        "from keras.layers import Dense\n",
        "from keras.layers import Dropout\n",
        "from keras import optimizers"
      ],
      "execution_count": 0,
      "outputs": []
    },
    {
      "cell_type": "code",
      "metadata": {
        "id": "obOqkZs3JEVZ",
        "colab_type": "code",
        "outputId": "b74c6100-2833-4084-e03a-5fdfed2b7d32",
        "colab": {
          "base_uri": "https://localhost:8080/",
          "height": 564
        }
      },
      "source": [
        "classifier=Sequential()\n",
        "classifier.add(Convolution2D(64,3,3,input_shape=(64,64,1),activation='relu'))\n",
        "classifier.add(MaxPooling2D(pool_size=(3,3)))\n",
        "\n",
        "classifier.add(Convolution2D(128,3,3,activation='relu'))\n",
        "classifier.add(MaxPooling2D(pool_size=(3,3)))\n",
        "classifier.add(Flatten())\n",
        "print(classifier.summary())"
      ],
      "execution_count": 4,
      "outputs": [
        {
          "output_type": "stream",
          "text": [
            "WARNING:tensorflow:From /usr/local/lib/python3.6/dist-packages/keras/backend/tensorflow_backend.py:66: The name tf.get_default_graph is deprecated. Please use tf.compat.v1.get_default_graph instead.\n",
            "\n",
            "WARNING:tensorflow:From /usr/local/lib/python3.6/dist-packages/keras/backend/tensorflow_backend.py:541: The name tf.placeholder is deprecated. Please use tf.compat.v1.placeholder instead.\n",
            "\n",
            "WARNING:tensorflow:From /usr/local/lib/python3.6/dist-packages/keras/backend/tensorflow_backend.py:4432: The name tf.random_uniform is deprecated. Please use tf.random.uniform instead.\n",
            "\n",
            "WARNING:tensorflow:From /usr/local/lib/python3.6/dist-packages/keras/backend/tensorflow_backend.py:4267: The name tf.nn.max_pool is deprecated. Please use tf.nn.max_pool2d instead.\n",
            "\n",
            "Model: \"sequential_1\"\n",
            "_________________________________________________________________\n",
            "Layer (type)                 Output Shape              Param #   \n",
            "=================================================================\n",
            "conv2d_1 (Conv2D)            (None, 62, 62, 64)        640       \n",
            "_________________________________________________________________\n",
            "max_pooling2d_1 (MaxPooling2 (None, 20, 20, 64)        0         \n",
            "_________________________________________________________________\n",
            "conv2d_2 (Conv2D)            (None, 18, 18, 128)       73856     \n",
            "_________________________________________________________________\n",
            "max_pooling2d_2 (MaxPooling2 (None, 6, 6, 128)         0         \n",
            "_________________________________________________________________\n",
            "flatten_1 (Flatten)          (None, 4608)              0         \n",
            "=================================================================\n",
            "Total params: 74,496\n",
            "Trainable params: 74,496\n",
            "Non-trainable params: 0\n",
            "_________________________________________________________________\n",
            "None\n"
          ],
          "name": "stdout"
        },
        {
          "output_type": "stream",
          "text": [
            "/usr/local/lib/python3.6/dist-packages/ipykernel_launcher.py:2: UserWarning: Update your `Conv2D` call to the Keras 2 API: `Conv2D(64, (3, 3), input_shape=(64, 64, 1..., activation=\"relu\")`\n",
            "  \n",
            "/usr/local/lib/python3.6/dist-packages/ipykernel_launcher.py:5: UserWarning: Update your `Conv2D` call to the Keras 2 API: `Conv2D(128, (3, 3), activation=\"relu\")`\n",
            "  \"\"\"\n"
          ],
          "name": "stderr"
        }
      ]
    },
    {
      "cell_type": "code",
      "metadata": {
        "id": "3MxzfUhdbHST",
        "colab_type": "code",
        "colab": {}
      },
      "source": [
        "import tensorflow as tf\n",
        "import keras\n",
        "\n",
        "def my_newCNN(input_shape, num_classes):\n",
        "    model = Sequential()\n",
        "    model.add(keras.layers.Conv2D(16, kernel_size=(3, 3), padding='same',\n",
        "                            name='image_array', input_shape=input_shape, activation='relu'))\n",
        "    model.add(keras.layers.BatchNormalization())\n",
        "    model.add(keras.layers.Conv2D(16, kernel_size=(3, 3), padding='same',\n",
        "                            strides=(2, 2), activation='relu'))\n",
        "    model.add(keras.layers.BatchNormalization())\n",
        "    model.add(keras.layers.Dropout(.25))\n",
        "    model.add(keras.layers.SeparableConv2D(32, kernel_size=(3, 3), padding='same',\n",
        "                            strides=(2, 2), activation='relu'))\n",
        "    model.add(keras.layers.BatchNormalization())\n",
        "    model.add(keras.layers.Conv2D(32, kernel_size=(3, 3), padding='same',\n",
        "                            strides=(2, 2), activation='relu'))\n",
        "    model.add(keras.layers.BatchNormalization())\n",
        "    model.add(keras.layers.Dropout(.25))\n",
        "    model.add(keras.layers.Conv2D(64, kernel_size=(3, 3), padding='same',\n",
        "                            strides=(2, 2), activation='relu'))\n",
        "    model.add(keras.layers.BatchNormalization())\n",
        "    model.add(keras.layers.Conv2D(64, kernel_size=(3, 3), padding='same',\n",
        "                            strides=(2, 2), activation='relu'))\n",
        "    model.add(keras.layers.BatchNormalization())\n",
        "    model.add(keras.layers.Dropout(.25))\n",
        "    model.add(keras.layers.Conv2D(128, kernel_size=(3, 3), padding='same',\n",
        "                            strides=(2, 2), activation='relu'))\n",
        "    model.add(keras.layers.BatchNormalization())\n",
        "    model.add(keras.layers.Conv2D(128, kernel_size=(3, 3), padding='same',\n",
        "                            strides=(2, 2), activation='relu'))\n",
        "    model.add(keras.layers.BatchNormalization())\n",
        "    model.add(keras.layers.Dropout(.25))\n",
        "    model.add(keras.layers.Conv2D(256, kernel_size=(3, 3), padding='same',\n",
        "                            strides=(2, 2), activation='relu'))\n",
        "    model.add(keras.layers.BatchNormalization())\n",
        "    model.add(keras.layers.Conv2D(256, kernel_size=(3, 3), padding='same',\n",
        "                            strides=(2, 2), activation='relu'))\n",
        "    model.add(keras.layers.BatchNormalization())\n",
        "    model.add(keras.layers.Dropout(.25))\n",
        "    model.add(keras.layers.Dense(128,activation='relu'))\n",
        "    model.add(keras.layers.Dense(num_classes))\n",
        "    model.add(keras.layers.Flatten())\n",
        "    model.add(keras.layers.Activation('softmax',name='predictions'))\n",
        "    return model"
      ],
      "execution_count": 0,
      "outputs": []
    },
    {
      "cell_type": "code",
      "metadata": {
        "id": "xcN2-YaLbKQn",
        "colab_type": "code",
        "colab": {}
      },
      "source": [
        "classifier=my_newCNN((64,64,1),20)"
      ],
      "execution_count": 0,
      "outputs": []
    },
    {
      "cell_type": "code",
      "metadata": {
        "id": "2z76TOiYJHva",
        "colab_type": "code",
        "colab": {}
      },
      "source": [
        "classifier.add(Dense(output_dim=128, activation='relu'))\n",
        "classifier.add(Dropout(0.2))\n",
        "classifier.add(Dense(output_dim=20,activation='softmax'))"
      ],
      "execution_count": 0,
      "outputs": []
    },
    {
      "cell_type": "code",
      "metadata": {
        "id": "uWovWt9ZJSvK",
        "colab_type": "code",
        "colab": {}
      },
      "source": [
        "opt = optimizers.adam(lr=0.01)\n",
        "classifier.compile(optimizer=opt,loss='categorical_crossentropy',metrics=['accuracy'])"
      ],
      "execution_count": 0,
      "outputs": []
    },
    {
      "cell_type": "code",
      "metadata": {
        "id": "8FiJg1wsJLCX",
        "colab_type": "code",
        "outputId": "c2059f76-7a2d-4683-e2d5-c3a7d8cf529b",
        "colab": {
          "base_uri": "https://localhost:8080/",
          "height": 1000
        }
      },
      "source": [
        "from IPython.display import display\n",
        "from PIL import Image\n",
        "\n",
        "\n",
        "classifier.fit_generator(training_set,\n",
        "                    steps_per_epoch=3200,\n",
        "                    epochs=30,\n",
        "                    validation_data=test_set,\n",
        "                    nb_val_samples=800)"
      ],
      "execution_count": 77,
      "outputs": [
        {
          "output_type": "stream",
          "text": [
            "/usr/local/lib/python3.6/dist-packages/ipykernel_launcher.py:9: UserWarning: The semantics of the Keras 2 argument `steps_per_epoch` is not the same as the Keras 1 argument `samples_per_epoch`. `steps_per_epoch` is the number of batches to draw from the generator at each epoch. Basically steps_per_epoch = samples_per_epoch/batch_size. Similarly `nb_val_samples`->`validation_steps` and `val_samples`->`steps` arguments have changed. Update your method calls accordingly.\n",
            "  if __name__ == '__main__':\n",
            "/usr/local/lib/python3.6/dist-packages/ipykernel_launcher.py:9: UserWarning: Update your `fit_generator` call to the Keras 2 API: `fit_generator(<keras_pre..., steps_per_epoch=3200, epochs=30, validation_data=<keras_pre..., validation_steps=800)`\n",
            "  if __name__ == '__main__':\n"
          ],
          "name": "stderr"
        },
        {
          "output_type": "stream",
          "text": [
            "Epoch 1/30\n",
            "3200/3200 [==============================] - 228s 71ms/step - loss: 2.0682 - acc: 0.3185 - val_loss: 3.5453 - val_acc: 0.1613\n",
            "Epoch 2/30\n",
            "3200/3200 [==============================] - 225s 70ms/step - loss: 1.7215 - acc: 0.4327 - val_loss: 2.1996 - val_acc: 0.3492\n",
            "Epoch 3/30\n",
            "3200/3200 [==============================] - 220s 69ms/step - loss: 1.5137 - acc: 0.5064 - val_loss: 2.0420 - val_acc: 0.4154\n",
            "Epoch 4/30\n",
            "3200/3200 [==============================] - 211s 66ms/step - loss: 1.3711 - acc: 0.5528 - val_loss: 1.8952 - val_acc: 0.4536\n",
            "Epoch 5/30\n",
            "3200/3200 [==============================] - 210s 66ms/step - loss: 1.2751 - acc: 0.5827 - val_loss: 2.2064 - val_acc: 0.4030\n",
            "Epoch 6/30\n",
            "3200/3200 [==============================] - 209s 65ms/step - loss: 1.1990 - acc: 0.6061 - val_loss: 1.9151 - val_acc: 0.4516\n",
            "Epoch 7/30\n",
            "3200/3200 [==============================] - 205s 64ms/step - loss: 1.1422 - acc: 0.6245 - val_loss: 2.0047 - val_acc: 0.4236\n",
            "Epoch 8/30\n",
            "3200/3200 [==============================] - 205s 64ms/step - loss: 1.0849 - acc: 0.6427 - val_loss: 2.2754 - val_acc: 0.3956\n",
            "Epoch 9/30\n",
            "3200/3200 [==============================] - 206s 64ms/step - loss: 1.0348 - acc: 0.6585 - val_loss: 2.4459 - val_acc: 0.3760\n",
            "Epoch 10/30\n",
            "3200/3200 [==============================] - 204s 64ms/step - loss: 0.9837 - acc: 0.6739 - val_loss: 2.2131 - val_acc: 0.4241\n",
            "Epoch 11/30\n",
            "3200/3200 [==============================] - 206s 64ms/step - loss: 0.9555 - acc: 0.6826 - val_loss: 2.0465 - val_acc: 0.4389\n",
            "Epoch 12/30\n",
            "3200/3200 [==============================] - 204s 64ms/step - loss: 0.9239 - acc: 0.6935 - val_loss: 1.8181 - val_acc: 0.4758\n",
            "Epoch 13/30\n",
            "3200/3200 [==============================] - 203s 63ms/step - loss: 0.9009 - acc: 0.7007 - val_loss: 2.0292 - val_acc: 0.4433\n",
            "Epoch 14/30\n",
            "3200/3200 [==============================] - 203s 63ms/step - loss: 0.8802 - acc: 0.7069 - val_loss: 2.3023 - val_acc: 0.4011\n",
            "Epoch 15/30\n",
            "3200/3200 [==============================] - 208s 65ms/step - loss: 0.8616 - acc: 0.7140 - val_loss: 1.9607 - val_acc: 0.4890\n",
            "Epoch 16/30\n",
            "3200/3200 [==============================] - 206s 64ms/step - loss: 0.8434 - acc: 0.7183 - val_loss: 1.9284 - val_acc: 0.4573\n",
            "Epoch 17/30\n",
            "3200/3200 [==============================] - 204s 64ms/step - loss: 0.8463 - acc: 0.7190 - val_loss: 2.0864 - val_acc: 0.4349\n",
            "Epoch 18/30\n",
            "3200/3200 [==============================] - 205s 64ms/step - loss: 0.8135 - acc: 0.7287 - val_loss: 1.9344 - val_acc: 0.4632\n",
            "Epoch 19/30\n",
            "3200/3200 [==============================] - 204s 64ms/step - loss: 0.7984 - acc: 0.7342 - val_loss: 1.8826 - val_acc: 0.4791\n",
            "Epoch 20/30\n",
            "3200/3200 [==============================] - 204s 64ms/step - loss: 0.7954 - acc: 0.7358 - val_loss: 1.9126 - val_acc: 0.4756\n",
            "Epoch 21/30\n",
            "3200/3200 [==============================] - 205s 64ms/step - loss: 0.8013 - acc: 0.7357 - val_loss: 1.9040 - val_acc: 0.4815\n",
            "Epoch 22/30\n",
            "3200/3200 [==============================] - 209s 65ms/step - loss: 0.7599 - acc: 0.7457 - val_loss: 1.9286 - val_acc: 0.4898\n",
            "Epoch 23/30\n",
            "3200/3200 [==============================] - 207s 65ms/step - loss: 0.7583 - acc: 0.7480 - val_loss: 1.8917 - val_acc: 0.4865\n",
            "Epoch 24/30\n",
            "3200/3200 [==============================] - 206s 64ms/step - loss: 0.7438 - acc: 0.7520 - val_loss: 2.4443 - val_acc: 0.4093\n",
            "Epoch 25/30\n",
            "3200/3200 [==============================] - 204s 64ms/step - loss: 0.7489 - acc: 0.7506 - val_loss: 2.5683 - val_acc: 0.3825\n",
            "Epoch 26/30\n",
            "3200/3200 [==============================] - 203s 63ms/step - loss: 0.7296 - acc: 0.7567 - val_loss: 1.8981 - val_acc: 0.4968\n",
            "Epoch 27/30\n",
            "3200/3200 [==============================] - 205s 64ms/step - loss: 0.7201 - acc: 0.7597 - val_loss: 1.9936 - val_acc: 0.4809\n",
            "Epoch 28/30\n",
            "3200/3200 [==============================] - 206s 64ms/step - loss: 0.7098 - acc: 0.7639 - val_loss: 1.9496 - val_acc: 0.4928\n",
            "Epoch 29/30\n",
            "3200/3200 [==============================] - 207s 65ms/step - loss: 0.7018 - acc: 0.7660 - val_loss: 1.9392 - val_acc: 0.4806\n",
            "Epoch 30/30\n",
            "3200/3200 [==============================] - 204s 64ms/step - loss: 0.6994 - acc: 0.7665 - val_loss: 2.3061 - val_acc: 0.4591\n"
          ],
          "name": "stdout"
        },
        {
          "output_type": "execute_result",
          "data": {
            "text/plain": [
              "<keras.callbacks.History at 0x7f0f0a7d7c50>"
            ]
          },
          "metadata": {
            "tags": []
          },
          "execution_count": 77
        }
      ]
    },
    {
      "cell_type": "code",
      "metadata": {
        "id": "OvfZDBa2MGyg",
        "colab_type": "code",
        "colab": {}
      },
      "source": [
        "from sklearn import metrics\n",
        "# test_set.reset()\n",
        "# val_trues = test_set.classes\n",
        "# predictions= classifier.predict_generator(test_set, 1200 // 32)\n",
        "# val_preds = np.argmax(predictions, axis=-1)\n",
        "# val_trues = test_set.classes[:1184]\n",
        "# print(len(val_trues))\n",
        "# print(len(val_preds))\n",
        "# # cm = metrics.confusion_matrix(val_trues, val_preds)\n",
        "# labels = str(test_set.class_indices.keys())\n",
        "\n",
        "# print(labels)\n",
        "\n",
        "# precisions, recall, f1_score, _ = metrics.precision_recall_fscore_support(val_trues,predicted_class_indices, labels=labels)\n",
        "\n",
        "# print(precisions)\n",
        "# print(f1_score)"
      ],
      "execution_count": 0,
      "outputs": []
    },
    {
      "cell_type": "code",
      "metadata": {
        "id": "xFAoLrHKY7wc",
        "colab_type": "code",
        "colab": {
          "base_uri": "https://localhost:8080/",
          "height": 938
        },
        "outputId": "76110884-a822-4e74-9324-b16198c4744c"
      },
      "source": [
        "from sklearn.metrics import classification_report, confusion_matrix\n",
        "Y_pred = classifier.predict_generator(test_set,1200 // 64)\n",
        "print(len(Y_pred))\n",
        "y_pred = np.argmax(Y_pred, axis=1)\n",
        "print('Confusion Matrix')\n",
        "print(confusion_matrix(test_set.classes[:1152], y_pred))\n",
        "print('Classification Report')\n",
        "print(str(test_set.class_indices.keys()))\n",
        "target_names = ['female_left_1_01', 'female_left_2_02', 'female_left_3_03', 'female_left_4_04', 'female_left_5_05', 'female_right_1_011', 'female_right_2_012', 'female_right_3_013', 'female_right_4_014', 'female_right_5_015', 'male_left_1_06', 'male_left_2_07', 'male_left_3_08', 'male_left_4_09', 'male_left_5_010', 'male_right_1_016', 'male_right_2_017', 'male_right_3_018', 'male_right_4_019', 'male_right_5_020']\n",
        "print(classification_report(test_set.classes[:1152], y_pred, target_names=target_names))\n",
        " \n",
        " "
      ],
      "execution_count": 87,
      "outputs": [
        {
          "output_type": "stream",
          "text": [
            "1152\n",
            "Confusion Matrix\n",
            "[[ 2  0  0  0  0  0  1  0  0  0 21  0  0  0  0  1  0  0  0  0]\n",
            " [ 1  0  0  0  0  0  0  0  0  0  6 15  1  2  0  0  0  0  0  0]\n",
            " [ 0  0  4  0  0  0  0  0  0  0  5  4  7  2  0  1  0  0  2  0]\n",
            " [ 3  1  1  4  1  0  0  0  0  0  7  0  0  4  2  0  0  1  1  0]\n",
            " [ 0  0  0  0  1  0  0  0  0  0  5  0  0  0 18  1  0  0  0  0]\n",
            " [ 0  0  0  0  0  1  0  0  0  0  3  0  0  0  0 17  4  0  0  0]\n",
            " [ 0  0  0  0  0  0  2  0  0  0  2  0  0  1  0  4 12  1  3  0]\n",
            " [ 1  0  0  0  0  0  0  2  0  0  6  0  1  1  0  2  2  6  4  0]\n",
            " [ 0  1  0  0  0  1  0  0  0  0  0  0  0  1  0  1  2  1 18  0]\n",
            " [ 0  0  0  0  0  0  0  0  0  0  0  0  1  0  1  3  0  0  0 20]\n",
            " [ 1  0  0  0  0  0  0  0  0  0 83  1  0  2  3  1  2  1  1  0]\n",
            " [ 0  0  0  0  2  0  0  0  0  0 44 35  3  0  4  0  2  5  0  0]\n",
            " [ 0  0  2  0  0  0  0  0  0  0 16 16 36  5 14  4  2  0  0  0]\n",
            " [ 1  0  0  0  2  0  0  0  0  0 29  7  6 37  3  6  0  1  3  0]\n",
            " [ 0  0  0  0  4  0  0  0  0  0 11  1  0  0 78  0  0  0  0  1]\n",
            " [ 0  0  0  0  0  0  0  0  0  0 10  0  0  1  1 71  6  0  0  6]\n",
            " [ 0  0  0  0  0  1  0  0  0  0  7  0  2  0  1 29 46  4  2  3]\n",
            " [ 0  0  0  0  1  0  2  0  0  0 21  0  1  1  5  7 11 35  9  2]\n",
            " [ 0  0  0  0  0  0  2  0  1  0 31  0  2  3  2 10  1 13 29  1]\n",
            " [ 0  0  0  0  0  0  0  0  0  0  0  0  0  0  0  3  1  0  0 43]]\n",
            "Classification Report\n",
            "dict_keys(['female_left_1_01', 'female_left_2_02', 'female_left_3_03', 'female_left_4_04', 'female_left_5_05', 'female_right_1_011', 'female_right_2_012', 'female_right_3_013', 'female_right_4_014', 'female_right_5_015', 'male_left_1_06', 'male_left_2_07', 'male_left_3_08', 'male_left_4_09', 'male_left_5_010', 'male_right_1_016', 'male_right_2_017', 'male_right_3_018', 'male_right_4_019', 'male_right_5_020'])\n",
            "                    precision    recall  f1-score   support\n",
            "\n",
            "  female_left_1_01       0.22      0.08      0.12        25\n",
            "  female_left_2_02       0.00      0.00      0.00        25\n",
            "  female_left_3_03       0.57      0.16      0.25        25\n",
            "  female_left_4_04       1.00      0.16      0.28        25\n",
            "  female_left_5_05       0.09      0.04      0.06        25\n",
            "female_right_1_011       0.33      0.04      0.07        25\n",
            "female_right_2_012       0.29      0.08      0.12        25\n",
            "female_right_3_013       1.00      0.08      0.15        25\n",
            "female_right_4_014       0.00      0.00      0.00        25\n",
            "female_right_5_015       0.00      0.00      0.00        25\n",
            "    male_left_1_06       0.27      0.87      0.41        95\n",
            "    male_left_2_07       0.44      0.37      0.40        95\n",
            "    male_left_3_08       0.60      0.38      0.46        95\n",
            "    male_left_4_09       0.62      0.39      0.48        95\n",
            "   male_left_5_010       0.59      0.82      0.69        95\n",
            "  male_right_1_016       0.44      0.75      0.55        95\n",
            "  male_right_2_017       0.51      0.48      0.49        95\n",
            "  male_right_3_018       0.51      0.37      0.43        95\n",
            "  male_right_4_019       0.40      0.31      0.35        95\n",
            "  male_right_5_020       0.57      0.91      0.70        47\n",
            "\n",
            "          accuracy                           0.44      1152\n",
            "         macro avg       0.42      0.31      0.30      1152\n",
            "      weighted avg       0.46      0.44      0.40      1152\n",
            "\n"
          ],
          "name": "stdout"
        },
        {
          "output_type": "stream",
          "text": [
            "/usr/local/lib/python3.6/dist-packages/sklearn/metrics/_classification.py:1272: UndefinedMetricWarning: Precision and F-score are ill-defined and being set to 0.0 in labels with no predicted samples. Use `zero_division` parameter to control this behavior.\n",
            "  _warn_prf(average, modifier, msg_start, len(result))\n"
          ],
          "name": "stderr"
        }
      ]
    },
    {
      "cell_type": "code",
      "metadata": {
        "id": "yY9SXt6XARlR",
        "colab_type": "code",
        "colab": {}
      },
      "source": [
        ""
      ],
      "execution_count": 0,
      "outputs": []
    }
  ]
}