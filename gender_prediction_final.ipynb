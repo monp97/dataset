{
  "nbformat": 4,
  "nbformat_minor": 0,
  "metadata": {
    "colab": {
      "name": "gender_prediction_final.ipynb",
      "provenance": [],
      "collapsed_sections": [],
      "authorship_tag": "ABX9TyO/K6uxGUeX3/zpESa8BjQq",
      "include_colab_link": true
    },
    "kernelspec": {
      "name": "python3",
      "display_name": "Python 3"
    }
  },
  "cells": [
    {
      "cell_type": "markdown",
      "metadata": {
        "id": "view-in-github",
        "colab_type": "text"
      },
      "source": [
        "<a href=\"https://colab.research.google.com/github/monp97/dataset/blob/master/gender_prediction_final.ipynb\" target=\"_parent\"><img src=\"https://colab.research.google.com/assets/colab-badge.svg\" alt=\"Open In Colab\"/></a>"
      ]
    },
    {
      "cell_type": "code",
      "metadata": {
        "id": "5yXb_Yi7JZ29",
        "colab_type": "code",
        "colab": {
          "base_uri": "https://localhost:8080/",
          "height": 153
        },
        "outputId": "ddbfe218-67d3-4901-b464-ac5965186e6f"
      },
      "source": [
        "! git clone https://github.com/monp97/dataset.git"
      ],
      "execution_count": 1,
      "outputs": [
        {
          "output_type": "stream",
          "text": [
            "Cloning into 'dataset'...\n",
            "remote: Enumerating objects: 3, done.\u001b[K\n",
            "remote: Counting objects: 100% (3/3), done.\u001b[K\n",
            "remote: Compressing objects: 100% (3/3), done.\u001b[K\n",
            "remote: Total 62942 (delta 0), reused 0 (delta 0), pack-reused 62939\u001b[K\n",
            "Receiving objects: 100% (62942/62942), 426.51 MiB | 28.55 MiB/s, done.\n",
            "Resolving deltas: 100% (2988/2988), done.\n",
            "Checking out files: 100% (119387/119387), done.\n"
          ],
          "name": "stdout"
        }
      ]
    },
    {
      "cell_type": "code",
      "metadata": {
        "id": "d6J8QShRKApg",
        "colab_type": "code",
        "colab": {
          "base_uri": "https://localhost:8080/",
          "height": 34
        },
        "outputId": "f843ae53-aa73-45f7-84a5-75835edbd8da"
      },
      "source": [
        "import os\n",
        "\n",
        "directory = \"final_dataset\"\n",
        "  \n",
        "# Parent Directory path \n",
        "parent_dir = \"/content/\"\n",
        "  \n",
        "# Path \n",
        "path = os.path.join(parent_dir, directory) \n",
        "  \n",
        "# Create the directory \n",
        "# 'GeeksForGeeks' in \n",
        "# '/home / User / Documents' \n",
        "os.mkdir(path) \n",
        "print(\"Directory '% s' created\" % directory) "
      ],
      "execution_count": 2,
      "outputs": [
        {
          "output_type": "stream",
          "text": [
            "Directory 'final_dataset' created\n"
          ],
          "name": "stdout"
        }
      ]
    },
    {
      "cell_type": "code",
      "metadata": {
        "id": "k0VN6WJdKdyq",
        "colab_type": "code",
        "colab": {}
      },
      "source": [
        "directory1 = \"training\"\n",
        "directory2 = \"test\"\n",
        "\n",
        "# Parent Directory path \n",
        "parent_dir = \"/content/final_dataset\"\n",
        "  \n",
        "# Path \n",
        "path1 = os.path.join(parent_dir, directory1) \n",
        "path2 = os.path.join(parent_dir, directory2) \n",
        "  \n",
        "# Create the directory \n",
        "# 'GeeksForGeeks' in \n",
        "# '/home / User / Documents' \n",
        "os.mkdir(path1) \n",
        "os.mkdir(path2) "
      ],
      "execution_count": 0,
      "outputs": []
    },
    {
      "cell_type": "code",
      "metadata": {
        "id": "_amUGpHgKfRm",
        "colab_type": "code",
        "colab": {}
      },
      "source": [
        "directories = [\"female_left\",\"male_left\",\"female_right\",\"male_right\"]\n",
        "  \n",
        "# Parent Directory path \n",
        "parent_dir = \"/content/final_dataset/training\"\n",
        "\n",
        "list_final_dir=[]\n",
        "\n",
        "k=1\n",
        "\n",
        "for dir in directories:\n",
        "  for i in range(5):\n",
        "    list_final_dir.append(dir+'_'+str(i+1)+'_0'+str(k))\n",
        "    k+=1\n",
        "  \n",
        "# Path \n",
        "# path1 = os.path.join(parent_dir, directory1) \n",
        "# path2 = os.path.join(parent_dir, directory2) \n",
        "\n",
        "for i in range(len(list_final_dir)):\n",
        "  path = os.path.join(parent_dir, list_final_dir[i]) \n",
        "  os.mkdir(path) \n",
        "   \n",
        "# # Create the directory \n",
        "# # 'GeeksForGeeks' in \n",
        "# # '/home / User / Documents' \n",
        "# os.mkdir(path1) \n",
        "# os.mkdir(path2) "
      ],
      "execution_count": 0,
      "outputs": []
    },
    {
      "cell_type": "code",
      "metadata": {
        "id": "VMrTTORAMjTM",
        "colab_type": "code",
        "colab": {}
      },
      "source": [
        "directories = [\"female_left\",\"male_left\",\"female_right\",\"male_right\"]\n",
        "\n",
        "  \n",
        "# Parent Directory path \n",
        "parent_dir = \"/content/final_dataset/test\"\n",
        "\n",
        "list_final_dir=[]\n",
        "\n",
        "k=1\n",
        "\n",
        "for dir in directories:\n",
        "  for i in range(5):\n",
        "    list_final_dir.append(dir+'_'+str(i+1)+'_0'+str(k))\n",
        "    k+=1\n",
        "  \n",
        "# Path \n",
        "# path1 = os.path.join(parent_dir, directory1) \n",
        "# path2 = os.path.join(parent_dir, directory2) \n",
        "\n",
        "for i in range(len(list_final_dir)):\n",
        "  path = os.path.join(parent_dir, list_final_dir[i]) \n",
        "  os.mkdir(path) "
      ],
      "execution_count": 0,
      "outputs": []
    },
    {
      "cell_type": "code",
      "metadata": {
        "id": "ZolFXNntNg2W",
        "colab_type": "code",
        "colab": {}
      },
      "source": [
        "import cv2\n",
        "import os\n",
        "import shutil\n",
        "\n",
        "dst = 'path/to/dest_dir'\n",
        "\n",
        "images = []\n",
        "i=0\n",
        "f=0\n",
        "m=0\n",
        "\n",
        "dic={\n",
        "    'female_left_1':\"01\",\n",
        "    'female_left_2':\"02\",\n",
        "    'female_left_3':\"03\",\n",
        "    'female_left_4':\"04\",\n",
        "    'female_left_5':\"05\",\n",
        "    'female_right_1':\"011\",\n",
        "    'female_right_2':\"012\",\n",
        "    'female_right_3':\"013\",\n",
        "    'female_right_4':\"014\",\n",
        "    'female_right_5':\"015\",\n",
        "    'male_left_1':\"06\",\n",
        "    'male_left_2':\"07\",\n",
        "    'male_left_3':\"08\",\n",
        "    'male_left_4':\"09\",\n",
        "    'male_left_5':\"010\",\n",
        "    'male_right_1':\"016\",\n",
        "    'male_right_2':\"017\",\n",
        "    'male_right_3':\"018\",\n",
        "    'male_right_4':\"019\",\n",
        "    'male_right_5':\"020\",\n",
        "}\n",
        "\n",
        "\n",
        "for filename in os.listdir('/content/dataset/Real'):\n",
        "        subject_id, etc = filename.split('__')\n",
        "        gender, lr, finger, _ = etc.split('_')\n",
        "        src='/content/dataset/Real/'+filename\n",
        "        i=i+1\n",
        "\n",
        "        refer = {\n",
        "          \"index\": \"1\",\n",
        "          \"middle\": \"2\",\n",
        "          \"ring\":\"3\",\n",
        "          \"little\":\"4\",\n",
        "          \"thumb\":\"5\"\n",
        "        }\n",
        "\n",
        "        dir_name=''\n",
        "\n",
        "        if gender=='M':\n",
        "          dir_name=dir_name+'male_'\n",
        "        else:\n",
        "          dir_name=dir_name+'female_'\n",
        "\n",
        "        if lr=='Left':\n",
        "          dir_name=dir_name+'left_'\n",
        "        else:\n",
        "          dir_name=dir_name+'right_'\n",
        "\n",
        "        dir_name=dir_name+refer[finger]\n",
        "\n",
        "        name=dir_name\n",
        "\n",
        "        dir_name=name+'_'+str(dic[name])\n",
        "\n",
        "        shutil.copy(src,'/content/final_dataset/training/'+dir_name)"
      ],
      "execution_count": 0,
      "outputs": []
    },
    {
      "cell_type": "code",
      "metadata": {
        "id": "2FK_H70DPLsU",
        "colab_type": "code",
        "colab": {}
      },
      "source": [
        ""
      ],
      "execution_count": 0,
      "outputs": []
    },
    {
      "cell_type": "code",
      "metadata": {
        "id": "Y26Sau2DkWJN",
        "colab_type": "code",
        "colab": {}
      },
      "source": [
        "import shutil\n",
        "import os\n",
        "import numpy as np\n",
        "import argparse\n",
        "\n",
        "def get_files_from_folder(path):\n",
        "\n",
        "    files = os.listdir(path)\n",
        "    return np.asarray(files)\n",
        "\n",
        "def main(path_to_data, path_to_test_data, train_ratio):\n",
        "    # get dirs\n",
        "    _, dirs, _ = next(os.walk(path_to_data))\n",
        "\n",
        "    # calculates how many train data per class\n",
        "    data_counter_per_class = np.zeros((len(dirs)))\n",
        "    for i in range(len(dirs)):\n",
        "        path = os.path.join(path_to_data, dirs[i])\n",
        "        files = get_files_from_folder(path)\n",
        "        data_counter_per_class[i] = len(files)\n",
        "    test_counter = np.round(data_counter_per_class * (1 - train_ratio))\n",
        "\n",
        "    # transfers files\n",
        "    for i in range(len(dirs)):\n",
        "        path_to_original = os.path.join(path_to_data, dirs[i])\n",
        "        path_to_save = os.path.join(path_to_test_data, dirs[i])\n",
        "\n",
        "        #creates dir\n",
        "        if not os.path.exists(path_to_save):\n",
        "            os.makedirs(path_to_save)\n",
        "        files = get_files_from_folder(path_to_original)\n",
        "        # moves data\n",
        "        for j in range(int(test_counter[i])):\n",
        "            dst = os.path.join(path_to_save, files[j])\n",
        "            src = os.path.join(path_to_original, files[j])\n",
        "            shutil.move(src, dst)\n",
        "\n",
        "    \n",
        "# def parse_args():\n",
        "#   parser = argparse.ArgumentParser(description=\"Dataset divider\")\n",
        "#   parser.add_argument(\"--data_path\", required=True,\n",
        "#     help=\"Path to data\")\n",
        "#   parser.add_argument(\"--test_data_path_to_save\", required=True,\n",
        "#     help=\"Path to test data where to save\")\n",
        "#   parser.add_argument(\"--train_ratio\", required=True,\n",
        "#     help=\"Train ratio - 0.7 means splitting data in 70 % train and 30 % test\")\n",
        "#   return parser.parse_args()\n",
        "\n",
        "if __name__ == \"__main__\":\n",
        "  # args = parse_args()\n",
        "  # args.data_path='/content/final_dataset/training'\n",
        "  # args.test_data_path_to_save='/content/final_dataset/test'\n",
        "  # args.train_ratio=0.8\n",
        "  main('/content/final_dataset/training','/content/final_dataset/test', float(0.8))\n"
      ],
      "execution_count": 0,
      "outputs": []
    },
    {
      "cell_type": "code",
      "metadata": {
        "id": "1S2QeAqAPRGU",
        "colab_type": "code",
        "colab": {}
      },
      "source": [
        ""
      ],
      "execution_count": 0,
      "outputs": []
    },
    {
      "cell_type": "code",
      "metadata": {
        "id": "1uNq6-FqY52p",
        "colab_type": "code",
        "outputId": "327df9a1-9484-40a3-83d3-194fd4d5cef8",
        "colab": {
          "base_uri": "https://localhost:8080/",
          "height": 697
        }
      },
      "source": [
        "source1 = \"/content/final_dataset/training\"\n",
        "dest11 = \"/content/final_dataset/test\"\n",
        "\n",
        "files1 = os.listdir(source1)\n",
        "files2 = os.listdir(dest11)\n",
        "\n",
        "\n",
        "for file in files1:\n",
        "  files_file= os.listdir(\"/content/final_dataset/training/\"+file)\n",
        "  print(\"training data \"+str(file)+' '+str(len(files_file)))\n",
        "\n",
        "\n",
        "for file in files2:\n",
        "  files_file= os.listdir(\"/content/final_dataset/test/\"+file)\n",
        "  print(\"test data \"+str(file)+' '+str(len(files_file)))\n",
        "\n"
      ],
      "execution_count": 17,
      "outputs": [
        {
          "output_type": "stream",
          "text": [
            "training data female_left_3_03 98\n",
            "training data male_left_1_06 382\n",
            "training data female_right_2_012 98\n",
            "training data male_left_3_08 382\n",
            "training data male_right_1_016 382\n",
            "training data female_left_4_04 98\n",
            "training data female_right_1_011 98\n",
            "training data male_left_4_09 382\n",
            "training data female_left_5_05 98\n",
            "training data male_right_4_019 382\n",
            "training data female_right_3_013 98\n",
            "training data female_left_2_02 98\n",
            "training data female_left_1_01 98\n",
            "training data male_left_5_010 382\n",
            "training data male_right_5_020 382\n",
            "training data male_right_3_018 382\n",
            "training data female_right_4_014 98\n",
            "training data male_left_2_07 382\n",
            "training data male_right_2_017 382\n",
            "training data female_right_5_015 98\n",
            "test data female_left_3_03 25\n",
            "test data male_left_1_06 95\n",
            "test data female_right_2_012 25\n",
            "test data male_left_3_08 95\n",
            "test data male_right_1_016 95\n",
            "test data female_left_4_04 25\n",
            "test data female_right_1_011 25\n",
            "test data male_left_4_09 95\n",
            "test data female_left_5_05 25\n",
            "test data male_right_4_019 95\n",
            "test data female_right_3_013 25\n",
            "test data female_left_2_02 25\n",
            "test data female_left_1_01 25\n",
            "test data male_left_5_010 95\n",
            "test data male_right_5_020 95\n",
            "test data male_right_3_018 95\n",
            "test data female_right_4_014 25\n",
            "test data male_left_2_07 95\n",
            "test data male_right_2_017 95\n",
            "test data female_right_5_015 25\n"
          ],
          "name": "stdout"
        }
      ]
    },
    {
      "cell_type": "code",
      "metadata": {
        "id": "V2O-ntxyQH3-",
        "colab_type": "code",
        "colab": {}
      },
      "source": [
        "import numpy as np\n",
        "def processImage(img):\n",
        "  gray = cv2.cvtColor(image, cv2.COLOR_BGR2GRAY)\n",
        "  res = cv2.resize(gray, dsize=(64, 64), interpolation=cv2.INTER_CUBIC)\n",
        "  # print(res.shape)\n",
        "  return res"
      ],
      "execution_count": 0,
      "outputs": []
    },
    {
      "cell_type": "code",
      "metadata": {
        "id": "STPw9ogIPXtc",
        "colab_type": "code",
        "colab": {
          "base_uri": "https://localhost:8080/",
          "height": 272
        },
        "outputId": "d91d3aa9-04f2-4519-cb17-8100f11bfe23"
      },
      "source": [
        "from google.colab.patches import cv2_imshow\n",
        "source1 = \"/content/final_dataset/training\"\n",
        "files1 = os.listdir(source1)\n",
        "img_list=[]\n",
        "i=0\n",
        "for file in files2:\n",
        "  path=\"/content/final_dataset/training/\"+file\n",
        "  files_file= os.listdir(path)\n",
        "  # print(\"test data \"+str(file)+' '+str(len(files_file)))\n",
        "  for file1 in files_file:\n",
        "    image = cv2.imread(path+'/'+file1)\n",
        "    preprocessed_img=processImage(image)\n",
        "    tuple_img=np.append(preprocessed_img.flatten(),np.array([file]))\n",
        "    img_list.append(tuple_img)\n",
        "\n",
        "\n",
        "print(len(img_list))\n",
        "\n",
        "import pandas as pd\n",
        "df = pd.DataFrame(img_list)\n",
        "print(df)\n",
        "df.to_csv('img_bkup.csv', index=False)\n"
      ],
      "execution_count": 84,
      "outputs": [
        {
          "output_type": "stream",
          "text": [
            "4800\n",
            "     0    1    2    3    4    5     ... 4091 4092 4093 4094 4095                4096\n",
            "0     157  138  137  137  137  137  ...    0    0    0    0    0    female_left_3_03\n",
            "1     157  138  137  137  137  137  ...    0    0    0    0    0    female_left_3_03\n",
            "2     157  138  137  137  137  137  ...    0    0    0    0    0    female_left_3_03\n",
            "3     157  138  137  137  137  137  ...    0    0    0    0    0    female_left_3_03\n",
            "4     157  138  137  137  137  137  ...    0    0    0    0    0    female_left_3_03\n",
            "...   ...  ...  ...  ...  ...  ...  ...  ...  ...  ...  ...  ...                 ...\n",
            "4795  157  138  137  137  137  137  ...    0    0    0    0    0  female_right_5_015\n",
            "4796  157  138  137  137  137  137  ...    0    0    0    0    0  female_right_5_015\n",
            "4797  157  138  137  137  137  137  ...    0    0    0    0    0  female_right_5_015\n",
            "4798  157  138  137  137  137  137  ...    0    0    0    0    0  female_right_5_015\n",
            "4799  157  138  137  137  137  137  ...    0    0    0    0    0  female_right_5_015\n",
            "\n",
            "[4800 rows x 4097 columns]\n"
          ],
          "name": "stdout"
        }
      ]
    },
    {
      "cell_type": "code",
      "metadata": {
        "id": "ZBWXurr5QG9d",
        "colab_type": "code",
        "colab": {
          "base_uri": "https://localhost:8080/",
          "height": 34
        },
        "outputId": "291cd803-50db-4f39-8dda-a5887ecb14a5"
      },
      "source": [
        "import os\n",
        "\n",
        "directory = \"final_dataset_smote\"\n",
        "# Parent Directory path \n",
        "parent_dir = \"/content/\" \n",
        "# Path \n",
        "path = os.path.join(parent_dir, directory) \n",
        "# Create the directory \n",
        "# 'GeeksForGeeks' in \n",
        "# '/home / User / Documents' \n",
        "os.mkdir(path) \n",
        "print(\"Directory '% s' created\" % directory) "
      ],
      "execution_count": 85,
      "outputs": [
        {
          "output_type": "stream",
          "text": [
            "Directory 'final_dataset_smote' created\n"
          ],
          "name": "stdout"
        }
      ]
    },
    {
      "cell_type": "code",
      "metadata": {
        "id": "vus3AYSQlvAM",
        "colab_type": "code",
        "colab": {}
      },
      "source": [
        "directory1 = \"training\"\n",
        "directory2 = \"test\"\n",
        "\n",
        "# Parent Directory path \n",
        "parent_dir = \"/content/final_dataset_smote\"\n",
        "  \n",
        "# Path \n",
        "path1 = os.path.join(parent_dir, directory1) \n",
        "path2 = os.path.join(parent_dir, directory2) \n",
        "  \n",
        "# Create the directory \n",
        "# 'GeeksForGeeks' in \n",
        "# '/home / User / Documents' \n",
        "os.mkdir(path1) \n",
        "os.mkdir(path2) "
      ],
      "execution_count": 0,
      "outputs": []
    },
    {
      "cell_type": "code",
      "metadata": {
        "id": "BZdsT8BSl8sA",
        "colab_type": "code",
        "colab": {}
      },
      "source": [
        "directories = [\"female_left\",\"male_left\",\"female_right\",\"male_right\"]\n",
        "  \n",
        "# Parent Directory path \n",
        "parent_dir = \"/content/final_dataset_smote/training\"\n",
        "\n",
        "list_final_dir=[]\n",
        "\n",
        "k=1\n",
        "\n",
        "for dir in directories:\n",
        "  for i in range(5):\n",
        "    list_final_dir.append(dir+'_'+str(i+1)+'_0'+str(k))\n",
        "    k+=1\n",
        "  \n",
        "# Path \n",
        "# path1 = os.path.join(parent_dir, directory1) \n",
        "# path2 = os.path.join(parent_dir, directory2) \n",
        "\n",
        "for i in range(len(list_final_dir)):\n",
        "  path = os.path.join(parent_dir, list_final_dir[i]) \n",
        "  os.mkdir(path) "
      ],
      "execution_count": 0,
      "outputs": []
    },
    {
      "cell_type": "code",
      "metadata": {
        "id": "mZbocd9smApj",
        "colab_type": "code",
        "colab": {}
      },
      "source": [
        "directories = [\"female_left\",\"male_left\",\"female_right\",\"male_right\"]\n",
        "  \n",
        "# Parent Directory path \n",
        "parent_dir = \"/content/final_dataset_smote/test\"\n",
        "\n",
        "list_final_dir=[]\n",
        "\n",
        "k=1\n",
        "\n",
        "for dir in directories:\n",
        "  for i in range(5):\n",
        "    list_final_dir.append(dir+'_'+str(i+1)+'_0'+str(k))\n",
        "    k+=1\n",
        "  \n",
        "# Path \n",
        "# path1 = os.path.join(parent_dir, directory1) \n",
        "# path2 = os.path.join(parent_dir, directory2) \n",
        "\n",
        "for i in range(len(list_final_dir)):\n",
        "  path = os.path.join(parent_dir, list_final_dir[i]) \n",
        "  os.mkdir(path) "
      ],
      "execution_count": 0,
      "outputs": []
    },
    {
      "cell_type": "code",
      "metadata": {
        "id": "m4uCZfDlmDQj",
        "colab_type": "code",
        "colab": {
          "base_uri": "https://localhost:8080/",
          "height": 377
        },
        "outputId": "bc56deb0-c72a-494b-a59b-53047141ed09"
      },
      "source": [
        "import pandas as pd\n",
        "\n",
        "from imblearn.over_sampling import SMOTE \n",
        "sm = SMOTE(random_state = 20)\n",
        "df=pd.read_csv('/content/img_bkup.csv')\n",
        "X_train=df.iloc[:, :-1]\n",
        "y_train=df.iloc[:,-1]\n",
        "# print(X_train)\n",
        "# print(y_train)\n",
        "X_train_res, y_train_res = sm.fit_sample(X_train, y_train.ravel()) "
      ],
      "execution_count": 90,
      "outputs": [
        {
          "output_type": "stream",
          "text": [
            "/usr/local/lib/python3.6/dist-packages/sklearn/utils/deprecation.py:87: FutureWarning: Function safe_indexing is deprecated; safe_indexing is deprecated in version 0.22 and will be removed in version 0.24.\n",
            "  warnings.warn(msg, category=FutureWarning)\n",
            "/usr/local/lib/python3.6/dist-packages/sklearn/utils/deprecation.py:87: FutureWarning: Function safe_indexing is deprecated; safe_indexing is deprecated in version 0.22 and will be removed in version 0.24.\n",
            "  warnings.warn(msg, category=FutureWarning)\n",
            "/usr/local/lib/python3.6/dist-packages/sklearn/utils/deprecation.py:87: FutureWarning: Function safe_indexing is deprecated; safe_indexing is deprecated in version 0.22 and will be removed in version 0.24.\n",
            "  warnings.warn(msg, category=FutureWarning)\n",
            "/usr/local/lib/python3.6/dist-packages/sklearn/utils/deprecation.py:87: FutureWarning: Function safe_indexing is deprecated; safe_indexing is deprecated in version 0.22 and will be removed in version 0.24.\n",
            "  warnings.warn(msg, category=FutureWarning)\n",
            "/usr/local/lib/python3.6/dist-packages/sklearn/utils/deprecation.py:87: FutureWarning: Function safe_indexing is deprecated; safe_indexing is deprecated in version 0.22 and will be removed in version 0.24.\n",
            "  warnings.warn(msg, category=FutureWarning)\n",
            "/usr/local/lib/python3.6/dist-packages/sklearn/utils/deprecation.py:87: FutureWarning: Function safe_indexing is deprecated; safe_indexing is deprecated in version 0.22 and will be removed in version 0.24.\n",
            "  warnings.warn(msg, category=FutureWarning)\n",
            "/usr/local/lib/python3.6/dist-packages/sklearn/utils/deprecation.py:87: FutureWarning: Function safe_indexing is deprecated; safe_indexing is deprecated in version 0.22 and will be removed in version 0.24.\n",
            "  warnings.warn(msg, category=FutureWarning)\n",
            "/usr/local/lib/python3.6/dist-packages/sklearn/utils/deprecation.py:87: FutureWarning: Function safe_indexing is deprecated; safe_indexing is deprecated in version 0.22 and will be removed in version 0.24.\n",
            "  warnings.warn(msg, category=FutureWarning)\n",
            "/usr/local/lib/python3.6/dist-packages/sklearn/utils/deprecation.py:87: FutureWarning: Function safe_indexing is deprecated; safe_indexing is deprecated in version 0.22 and will be removed in version 0.24.\n",
            "  warnings.warn(msg, category=FutureWarning)\n",
            "/usr/local/lib/python3.6/dist-packages/sklearn/utils/deprecation.py:87: FutureWarning: Function safe_indexing is deprecated; safe_indexing is deprecated in version 0.22 and will be removed in version 0.24.\n",
            "  warnings.warn(msg, category=FutureWarning)\n"
          ],
          "name": "stderr"
        }
      ]
    },
    {
      "cell_type": "code",
      "metadata": {
        "id": "yD9mLDunnwGU",
        "colab_type": "code",
        "colab": {
          "base_uri": "https://localhost:8080/",
          "height": 34
        },
        "outputId": "b8fa031b-be7d-4d66-fbe6-1e64f025a2cf"
      },
      "source": [
        "X_train_res.shape"
      ],
      "execution_count": 91,
      "outputs": [
        {
          "output_type": "execute_result",
          "data": {
            "text/plain": [
              "(7640, 4096)"
            ]
          },
          "metadata": {
            "tags": []
          },
          "execution_count": 91
        }
      ]
    },
    {
      "cell_type": "code",
      "metadata": {
        "id": "F4c_xKp2nzHZ",
        "colab_type": "code",
        "colab": {
          "base_uri": "https://localhost:8080/",
          "height": 34
        },
        "outputId": "6094261e-ccb0-4a4e-bcbd-b89152f5a5f0"
      },
      "source": [
        "y_train_res.shape"
      ],
      "execution_count": 92,
      "outputs": [
        {
          "output_type": "execute_result",
          "data": {
            "text/plain": [
              "(7640,)"
            ]
          },
          "metadata": {
            "tags": []
          },
          "execution_count": 92
        }
      ]
    },
    {
      "cell_type": "code",
      "metadata": {
        "id": "bBHeriaHn1gf",
        "colab_type": "code",
        "colab": {}
      },
      "source": [
        "smote_img_arr_res=np.hstack((X_train_res,y_train_res.reshape(7640,1)))"
      ],
      "execution_count": 0,
      "outputs": []
    },
    {
      "cell_type": "code",
      "metadata": {
        "id": "LZJrFi7XoOiP",
        "colab_type": "code",
        "colab": {
          "base_uri": "https://localhost:8080/",
          "height": 136
        },
        "outputId": "96d5380d-c153-4937-b110-393ac78183eb"
      },
      "source": [
        "print(smote_img_arr_res)"
      ],
      "execution_count": 98,
      "outputs": [
        {
          "output_type": "stream",
          "text": [
            "[[157 138 137 ... 0 0 'female_left_3_03']\n",
            " [157 138 137 ... 0 0 'female_left_3_03']\n",
            " [157 138 137 ... 0 0 'female_left_3_03']\n",
            " ...\n",
            " [157 138 137 ... 0 0 'female_right_5_015']\n",
            " [157 138 137 ... 0 0 'female_right_5_015']\n",
            " [157 138 137 ... 0 0 'female_right_5_015']]\n"
          ],
          "name": "stdout"
        }
      ]
    },
    {
      "cell_type": "code",
      "metadata": {
        "id": "_xZggJ43oSxq",
        "colab_type": "code",
        "colab": {}
      },
      "source": [
        "import pandas as pd\n",
        "df = pd.DataFrame(smote_img_arr_res)\n",
        "df.to_csv('smote_img_bkup.csv', index=False)"
      ],
      "execution_count": 0,
      "outputs": []
    },
    {
      "cell_type": "code",
      "metadata": {
        "id": "zMhqi-FSoyID",
        "colab_type": "code",
        "colab": {}
      },
      "source": [
        "df=pd.read_csv('/content/smote_img_bkup.csv')\n",
        "img=df.iloc[:, :-1]\n",
        "labels=df.iloc[:,-1]\n",
        "\n",
        "np_arr_img=img.values\n",
        "labels_arr_img=labels.values\n",
        "\n",
        "dic={\n",
        "    'female_left_1_01':0,\n",
        "    'female_left_2_02':0,\n",
        "    'female_left_3_03':0,\n",
        "    'female_left_4_04':0,\n",
        "    'female_left_5_05':0,\n",
        "    'female_right_1_011':0,\n",
        "    'female_right_2_012':0,\n",
        "    'female_right_3_013':0,\n",
        "    'female_right_4_014':0,\n",
        "    'female_right_5_015':0,\n",
        "    'male_left_1_06':0,\n",
        "    'male_left_2_07':0,\n",
        "    'male_left_3_08':0,\n",
        "    'male_left_4_09':0,\n",
        "    'male_left_5_010':0,\n",
        "    'male_right_1_016':0,\n",
        "    'male_right_2_017':0,\n",
        "    'male_right_3_018':0,\n",
        "    'male_right_4_019':0,\n",
        "    'male_right_5_020':0,\n",
        "}\n",
        "\n",
        "\n",
        "for i in range(7640):\n",
        "  img=np_arr_img[i].reshape(64,64)\n",
        "  label=labels_arr_img[i]\n",
        "  count=dic[label]\n",
        "  dic[label]=count+1\n",
        "  dest='/content/final_dataset_smote/training/'+label+'/'\n",
        "  cv2.imwrite(os.path.join(dest, label+'_'+str(dic[label])+'.BMP'), img)\n",
        "\n",
        "\n",
        "\n",
        "  \n"
      ],
      "execution_count": 0,
      "outputs": []
    },
    {
      "cell_type": "code",
      "metadata": {
        "id": "_Ht7FEREu9dw",
        "colab_type": "code",
        "colab": {
          "base_uri": "https://localhost:8080/",
          "height": 714
        },
        "outputId": "d614abf2-dc9b-4036-98bf-4b30d2c5752d"
      },
      "source": [
        "source1 = \"/content/final_dataset_smote/training\"\n",
        "dest11 = \"/content/final_dataset_smote/test\"\n",
        "\n",
        "files1 = os.listdir(source1)\n",
        "files2 = os.listdir(dest11)\n",
        "\n",
        "\n",
        "for file in files1:\n",
        "  files_file= os.listdir(\"/content/final_dataset_smote/training/\"+file)\n",
        "  print(\"training data \"+str(file)+' '+str(len(files_file)))\n",
        "\n",
        "\n",
        "for file in files2:\n",
        "  files_file= os.listdir(\"/content/final_dataset_smote/test/\"+file)\n",
        "  print(\"test data \"+str(file)+' '+str(len(files_file)))"
      ],
      "execution_count": 138,
      "outputs": [
        {
          "output_type": "stream",
          "text": [
            "training data female_left_3_03 383\n",
            "training data male_left_1_06 382\n",
            "training data female_right_2_012 382\n",
            "training data male_left_3_08 382\n",
            "training data male_right_1_016 382\n",
            "training data female_left_4_04 382\n",
            "training data female_right_1_011 382\n",
            "training data male_left_4_09 382\n",
            "training data female_left_5_05 382\n",
            "training data male_right_4_019 382\n",
            "training data female_right_3_013 382\n",
            "training data female_left_2_02 382\n",
            "training data female_left_1_01 382\n",
            "training data male_left_5_010 382\n",
            "training data male_right_5_020 382\n",
            "training data male_right_3_018 382\n",
            "training data female_right_4_014 382\n",
            "training data male_left_2_07 382\n",
            "training data male_right_2_017 382\n",
            "training data .ipynb_checkpoints 0\n",
            "training data female_right_5_015 382\n",
            "test data female_left_3_03 25\n",
            "test data male_left_1_06 95\n",
            "test data female_right_2_012 25\n",
            "test data male_left_3_08 95\n",
            "test data male_right_1_016 95\n",
            "test data female_left_4_04 25\n",
            "test data female_right_1_011 25\n",
            "test data male_left_4_09 95\n",
            "test data female_left_5_05 25\n",
            "test data male_right_4_019 95\n",
            "test data female_right_3_013 25\n",
            "test data female_left_2_02 25\n",
            "test data female_left_1_01 25\n",
            "test data male_left_5_010 95\n",
            "test data male_right_5_020 95\n",
            "test data male_right_3_018 95\n",
            "test data female_right_4_014 25\n",
            "test data male_left_2_07 95\n",
            "test data male_right_2_017 95\n",
            "test data female_right_5_015 25\n"
          ],
          "name": "stdout"
        }
      ]
    },
    {
      "cell_type": "code",
      "metadata": {
        "id": "Unz0-57bw_zW",
        "colab_type": "code",
        "colab": {}
      },
      "source": [
        "from distutils.dir_util import copy_tree\n",
        "\n",
        "# copy subdirectory example\n",
        "fromDirectory = \"/a/b/c\"\n",
        "toDirectory = \"/x/y/z\"\n",
        "\n",
        "source1 = \"/content/final_dataset/test\"\n",
        "files1 = os.listdir(source1)\n",
        "\n",
        "for file in files1:\n",
        "  fromdir= \"/content/final_dataset/test/\"+file\n",
        "  todir = \"/content/final_dataset_smote/test/\"+file\n",
        "  copy_tree(fromdir, todir)\n",
        "\n",
        "\n"
      ],
      "execution_count": 0,
      "outputs": []
    },
    {
      "cell_type": "code",
      "metadata": {
        "id": "9CZuP-oGx6Lh",
        "colab_type": "code",
        "colab": {}
      },
      "source": [
        ""
      ],
      "execution_count": 0,
      "outputs": []
    }
  ]
}